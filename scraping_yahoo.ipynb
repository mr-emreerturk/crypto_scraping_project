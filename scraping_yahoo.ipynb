{
 "cells": [
  {
   "cell_type": "code",
   "execution_count": 8,
   "metadata": {},
   "outputs": [],
   "source": [
    "#Selenium imports\n",
    "from selenium import webdriver\n",
    "from selenium.webdriver.chrome.service import Service\n",
    "from webdriver_manager.chrome import ChromeDriverManager\n",
    "from selenium.webdriver.common.keys import Keys\n",
    "from selenium.webdriver.common.by import By\n",
    "from selenium.webdriver.chrome.options import Options\n",
    "\n",
    "# Rest\n",
    "from bs4 import BeautifulSoup\n",
    "import time\n",
    "import pandas as pd\n",
    "import datetime\n",
    "import h5py\n",
    "\n",
    "# Global settings for the driver\n",
    "chrome_options = Options()\n",
    "chrome_options.add_experimental_option(\"detach\", True)"
   ]
  },
  {
   "cell_type": "code",
   "execution_count": 41,
   "metadata": {},
   "outputs": [],
   "source": [
    "def launch_chrome(url):\n",
    "    '''A method to install the latest Chrome driver and get url\n",
    "    ---------\n",
    "    Parameters:\n",
    "    url = url defined by user'''\n",
    "    \n",
    "    global driver\n",
    "    # installing driver making sure that new driver is up to date\n",
    "    driver = webdriver.Chrome(service=Service(ChromeDriverManager().install()))\n",
    "    driver.get(url)\n",
    "    return driver\n",
    "\n",
    "def yahoo_header():\n",
    "    '''Returns headers from finance.yahoo.com/cryptocurrencies'''\n",
    "\n",
    "    global yahoo_cols\n",
    "    target_columns = ['Name', 'Price (Intraday)', 'Market Cap', 'Circulating Supply'] \n",
    "    # Getting all columns on URL using XPATH\n",
    "    cols_mask = driver.find_elements(By.XPATH,'//*[@id=\"scr-res-table\"]/div[1]/table/thead/tr/th')\n",
    "    # Sequencing all elements to list if the header is in target columns\n",
    "    yahoo_cols = [i.text for i in cols_mask if i.text in target_columns]\n",
    "    yahoo_cols.insert(0,'Date')\n",
    "    # Return final list\n",
    "    return yahoo_cols\n",
    "\n",
    "def yahoo_body():\n",
    "    '''A method that returns the body of the table from finance.yahoo.com/cryptocurrencies'''\n",
    "    \n",
    "    global cryptocurrencies_list\n",
    "    cryptocurrencies_list = []\n",
    "    \n",
    "    # Checking length of table on URL\n",
    "    x = len(driver.find_elements(By.XPATH,'//*[@id=\"scr-res-table\"]/div[1]/table/tbody/tr'))\n",
    "\n",
    "    # Looping through every row on URL until last row\n",
    "    for row_n in range(1, x): \n",
    "        # date_time = ct = datetime.datetime.now().strftime(\"%D %T\")\n",
    "\n",
    "        # Finding elements matching to headers using relative XPATH\n",
    "        date = datetime.datetime.now().strftime('%D')\n",
    "        name = driver.find_element(By.XPATH,f'//*[@id=\"scr-res-table\"]/div[1]/table/tbody/tr[{row_n}]/td[2]') # Name\n",
    "        price = driver.find_element(By.XPATH,f'//*[@id=\"scr-res-table\"]/div[1]/table/tbody/tr[{row_n}]/td[3]') # Price (Intraday)\n",
    "        marketcap = driver.find_element(By.XPATH,f'//*[@id=\"scr-res-table\"]/div[1]/table/tbody/tr[{row_n}]/td[6]') # MarketCap\n",
    "        circ_supply = driver.find_element(By.XPATH,f'//*[@id=\"scr-res-table\"]/div[1]/table/tbody/tr[{row_n}]/td[10]') # Circulating Supply\n",
    "\n",
    "        # Creating Tuple as preperation for HDF5 file\n",
    "        my_tuple = (date, name.text, price.text, marketcap.text, circ_supply.text)\n",
    "        # Adding to body\n",
    "        cryptocurrencies_list.append(my_tuple)"
   ]
  },
  {
   "cell_type": "code",
   "execution_count": 42,
   "metadata": {},
   "outputs": [
    {
     "data": {
      "text/plain": [
       "['Date', 'Name', 'Price (Intraday)', 'Market Cap', 'Circulating Supply']"
      ]
     },
     "execution_count": 42,
     "metadata": {},
     "output_type": "execute_result"
    }
   ],
   "source": [
    "launch_chrome('https://finance.yahoo.com/cryptocurrencies/')\n",
    "yahoo_header()"
   ]
  },
  {
   "cell_type": "code",
   "execution_count": 43,
   "metadata": {},
   "outputs": [],
   "source": [
    "yahoo_body()"
   ]
  },
  {
   "cell_type": "code",
   "execution_count": 44,
   "metadata": {},
   "outputs": [
    {
     "data": {
      "text/plain": [
       "[('10/10/22', 'Bitcoin USD', '19,039.50', '365.096B', '19.176M'),\n",
       " ('10/10/22', 'Ethereum USD', '1,279.51', '157.047B', '122.74M'),\n",
       " ('10/10/22', 'Tether USD', '1.0000', '68.423B', '68.422B'),\n",
       " ('10/10/22', 'USD Coin USD', '1.0000', '45.994B', '45.995B'),\n",
       " ('10/10/22', 'BNB USD', '269.34', '43.454B', '161.337M'),\n",
       " ('10/10/22', 'XRP USD', '0.4969', '24.827B', '49.964B'),\n",
       " ('10/10/22', 'Binance USD USD', '1.0002', '21.632B', '21.628B'),\n",
       " ('10/10/22', 'Cardano USD', '0.3944', '13.517B', '34.271B'),\n",
       " ('10/10/22', 'Solana USD', '31.60', '11.294B', '357.457M'),\n",
       " ('10/10/22', 'Dogecoin USD', '0.0587', '7.789B', '132.671B'),\n",
       " ('10/10/22', 'Polygon USD', '0.7993', '6.981B', '8.734B'),\n",
       " ('10/10/22', 'Polkadot USD', '6.19', '6.969B', '1.125B'),\n",
       " ('10/10/22', 'Dai USD', '0.9994', '6.734B', '6.738B'),\n",
       " ('10/10/22', 'Wrapped TRON USD', '0.0621', '6.309B', '101.676B'),\n",
       " ('10/10/22', 'TRON USD', '0.0619', '5.713B', '92.328B'),\n",
       " ('10/10/22', 'HEX USD', '0.0326', '5.659B', '173.411B'),\n",
       " ('10/10/22', 'Shiba Inu USD', '0.0000', '5.563B', '549.063T'),\n",
       " ('10/10/22', 'Uniswap USD', '6.4318', '4.902B', '762.209M'),\n",
       " ('10/10/22', 'Uniswap USD', '6.42', '4.897B', '762.209M'),\n",
       " ('10/10/22', 'Avalanche USD', '15.91', '4.712B', '296.145M'),\n",
       " ('10/10/22', 'Wrapped Bitcoin USD', '19,041.33', '4.656B', '244,506'),\n",
       " ('10/10/22', 'Lido Staked ETH USD', '1,272.11', '4.437B', '3.488M'),\n",
       " ('10/10/22', 'yOUcash USD', '0.5114', '4.407B', '8.617B'),\n",
       " ('10/10/22', 'UNUS SED LEO USD', '4.0716', '3.884B', '953.954M')]"
      ]
     },
     "execution_count": 44,
     "metadata": {},
     "output_type": "execute_result"
    }
   ],
   "source": [
    "cryptocurrencies_list"
   ]
  },
  {
   "cell_type": "code",
   "execution_count": 46,
   "metadata": {},
   "outputs": [],
   "source": [
    "with h5py.File('/Users/emre/Documents/GitHub/crypto_scraping_project/hdf5_data.h5', 'w') as hdf:\n",
    "    yahoo_group = hdf.create_group('crypto_prices')\n",
    "    yahoo_prices = yahoo_group.create_dataset('yahoo_prices', data=cryptocurrencies_list)\n",
    "    yahoo_prices.attrs['USER'] = 'Emre Erturk'\n"
   ]
  },
  {
   "cell_type": "code",
   "execution_count": null,
   "metadata": {},
   "outputs": [],
   "source": []
  }
 ],
 "metadata": {
  "kernelspec": {
   "display_name": "Python 3.8.13 ('venv': venv)",
   "language": "python",
   "name": "python3"
  },
  "language_info": {
   "codemirror_mode": {
    "name": "ipython",
    "version": 3
   },
   "file_extension": ".py",
   "mimetype": "text/x-python",
   "name": "python",
   "nbconvert_exporter": "python",
   "pygments_lexer": "ipython3",
   "version": "3.8.13"
  },
  "orig_nbformat": 4,
  "vscode": {
   "interpreter": {
    "hash": "a3d0a0195eec492dce79e257cf7676dfb062318eea67dd624c48d2f80eb57d6d"
   }
  }
 },
 "nbformat": 4,
 "nbformat_minor": 2
}
