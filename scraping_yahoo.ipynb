{
 "cells": [
  {
   "cell_type": "code",
   "execution_count": 78,
   "metadata": {},
   "outputs": [],
   "source": [
    "#Selenium imports\n",
    "from selenium import webdriver\n",
    "from selenium.webdriver.chrome.service import Service\n",
    "from webdriver_manager.chrome import ChromeDriverManager\n",
    "from selenium.webdriver.common.keys import Keys\n",
    "from selenium.webdriver.common.by import By\n",
    "from selenium.webdriver.chrome.options import Options\n",
    "\n",
    "# Rest\n",
    "from bs4 import BeautifulSoup\n",
    "import time\n",
    "import pandas as pd\n",
    "import datetime\n",
    "import h5py\n",
    "import numpy as np\n",
    "\n",
    "# Global settings for the driver\n",
    "chrome_options = Options()\n",
    "chrome_options.add_experimental_option(\"detach\", True) # keeps driver open until manual termination"
   ]
  },
  {
   "cell_type": "code",
   "execution_count": 79,
   "metadata": {},
   "outputs": [],
   "source": [
    "def launch_chrome(url):\n",
    "    \"\"\"A method to install the latest Chrome driver and get url\n",
    "    ---------\n",
    "    Parameters:\n",
    "    url = url defined by user\"\"\"\n",
    "\n",
    "    global driver\n",
    "    # installing driver making sure that new driver is up to date\n",
    "    driver = webdriver.Chrome(service=Service(ChromeDriverManager().install()))\n",
    "    driver.get(url)\n",
    "    return driver\n",
    "\n",
    "\n",
    "def yahoo_header():\n",
    "    \"\"\"Returns headers from finance.yahoo.com/cryptocurrencies\"\"\"\n",
    "\n",
    "    global yahoo_cols\n",
    "    target_columns = [\"Name\", \"Price (Intraday)\", \"Market Cap\", \"Circulating Supply\"]\n",
    "    # Getting all columns on URL using XPATH\n",
    "    cols_mask = driver.find_elements(\n",
    "        By.XPATH, '//*[@id=\"scr-res-table\"]/div[1]/table/thead/tr/th'\n",
    "    )\n",
    "    # Sequencing all elements to list if the header is in target columns\n",
    "    yahoo_cols = [i.text for i in cols_mask if i.text in target_columns]\n",
    "    yahoo_cols.insert(0, \"Date\")\n",
    "    # Return final list\n",
    "    return yahoo_cols\n",
    "\n",
    "\n",
    "def yahoo_body():\n",
    "    \"\"\"A method that returns the body of the table from finance.yahoo.com/cryptocurrencies\"\"\"\n",
    "\n",
    "    global cryptocurrencies_list\n",
    "    try:\n",
    "        mask = pd.read_hdf(\n",
    "            \"/Users/emre/Documents/GitHub/crypto_scraping_project/hdf5_data.h5\"\n",
    "        )\n",
    "        records = mask.to_records(index=False)\n",
    "        cryptocurrencies_list = list(records)\n",
    "    except:\n",
    "        cryptocurrencies_list = []\n",
    "\n",
    "    # Checking length of table on URL\n",
    "    x = len(\n",
    "        driver.find_elements(By.XPATH, '//*[@id=\"scr-res-table\"]/div[1]/table/tbody/tr')\n",
    "    )\n",
    "\n",
    "    # Looping through every row on URL until last row\n",
    "    for row_n in range(1, x):\n",
    "        # date_time = ct = datetime.datetime.now().strftime(\"%D %T\")\n",
    "\n",
    "        # Finding elements matching to headers using relative XPATH\n",
    "        date = datetime.datetime.now().strftime(\"%D\")\n",
    "        name = driver.find_element(\n",
    "            By.XPATH, f'//*[@id=\"scr-res-table\"]/div[1]/table/tbody/tr[{row_n}]/td[2]'\n",
    "        )  # Name\n",
    "        price = driver.find_element(\n",
    "            By.XPATH, f'//*[@id=\"scr-res-table\"]/div[1]/table/tbody/tr[{row_n}]/td[3]'\n",
    "        )  # Price (Intraday)\n",
    "        marketcap = driver.find_element(\n",
    "            By.XPATH, f'//*[@id=\"scr-res-table\"]/div[1]/table/tbody/tr[{row_n}]/td[6]'\n",
    "        )  # MarketCap\n",
    "        circ_supply = driver.find_element(\n",
    "            By.XPATH, f'//*[@id=\"scr-res-table\"]/div[1]/table/tbody/tr[{row_n}]/td[10]'\n",
    "        )  # Circulating Supply\n",
    "\n",
    "        # Creating Tuple as preperation for HDF5 file\n",
    "        my_tuple = (date, name.text, price.text, marketcap.text, circ_supply.text)\n",
    "        # Adding to body\n",
    "        cryptocurrencies_list.append(my_tuple)\n",
    "\n",
    "    return cryptocurrencies_list\n",
    "\n",
    "\n",
    "def create_hdf_file(groupname, filename, data_name, username):\n",
    "    \"\"\"A method which creates a hdf file\"\"\"\n",
    "\n",
    "    with h5py.File(\n",
    "        \"/Users/emre/Documents/GitHub/crypto_scraping_project/hdf5_data.h5\", \"w\"\n",
    "    ) as hdf:\n",
    "        group = hdf.create_group(groupname)  # Name of Group\n",
    "        file = group.create_dataset(\n",
    "            filename,  # name of dataset\n",
    "            data=data_name,  # name of data\n",
    "            maxshape=(\n",
    "                None,\n",
    "                None,\n",
    "            ),  # shape of dataset set up for resizing and appending later\n",
    "            chunks=True,  # Set up access pattern\n",
    "        )\n",
    "        filename.attrs[\"USER\"] = username  # Add metadata\n"
   ]
  },
  {
   "cell_type": "code",
   "execution_count": 80,
   "metadata": {},
   "outputs": [
    {
     "data": {
      "text/plain": [
       "<selenium.webdriver.chrome.webdriver.WebDriver (session=\"99488bf2fee3b66478c9f772582b9ff7\")>"
      ]
     },
     "execution_count": 80,
     "metadata": {},
     "output_type": "execute_result"
    }
   ],
   "source": [
    "launch_chrome('https://finance.yahoo.com/cryptocurrencies/')"
   ]
  },
  {
   "cell_type": "code",
   "execution_count": 81,
   "metadata": {},
   "outputs": [],
   "source": [
    "yahoo_header();"
   ]
  },
  {
   "cell_type": "code",
   "execution_count": 82,
   "metadata": {},
   "outputs": [],
   "source": [
    "yahoo_body();"
   ]
  },
  {
   "cell_type": "code",
   "execution_count": 83,
   "metadata": {},
   "outputs": [],
   "source": [
    "# Context Manager to create HDF5 file for yahoo\n",
    "\n",
    "with h5py.File('/Users/emre/Documents/GitHub/crypto_scraping_project/hdf5_data.h5', 'w') as hdf:\n",
    "    yahoo_group = hdf.create_group('crypto_prices') # Name of Group\n",
    "    yahoo_prices = yahoo_group.create_dataset(\n",
    "        'yahoo_prices', # name of dataset\n",
    "        data=cryptocurrencies_list, # name of data\n",
    "        maxshape=(None,len(yahoo_cols)), # shape of dataset set up for resizing and appending later\n",
    "        chunks=True, # Set up access pattern\n",
    "    )\n",
    "    yahoo_prices.attrs['USER'] = 'Emre Erturk' # Add metadata"
   ]
  },
  {
   "cell_type": "code",
   "execution_count": 37,
   "metadata": {},
   "outputs": [
    {
     "ename": "TypeError",
     "evalue": "Only chunked datasets can be resized",
     "output_type": "error",
     "traceback": [
      "\u001b[0;31m---------------------------------------------------------------------------\u001b[0m",
      "\u001b[0;31mTypeError\u001b[0m                                 Traceback (most recent call last)",
      "Cell \u001b[0;32mIn [37], line 4\u001b[0m\n\u001b[1;32m      2\u001b[0m mask_lsit \u001b[39m=\u001b[39m np\u001b[39m.\u001b[39marray(cryptocurrencies_list) \u001b[39m# Convert list of tuples to Numpy array\u001b[39;00m\n\u001b[1;32m      3\u001b[0m \u001b[39m# resize target dataset and add shape of new data to it\u001b[39;00m\n\u001b[0;32m----> 4\u001b[0m hdf[\u001b[39m'\u001b[39m\u001b[39mcrypto_prices\u001b[39m\u001b[39m'\u001b[39m][\u001b[39m'\u001b[39m\u001b[39myahoo_prices\u001b[39m\u001b[39m'\u001b[39m]\u001b[39m.\u001b[39mresize((hdf[\u001b[39m'\u001b[39m\u001b[39mcrypto_prices\u001b[39m\u001b[39m'\u001b[39m][\u001b[39m'\u001b[39m\u001b[39myahoo_prices\u001b[39m\u001b[39m'\u001b[39m]\u001b[39m.\u001b[39mshape[\u001b[39m0\u001b[39m] \u001b[39m+\u001b[39m mask_lsit\u001b[39m.\u001b[39mshape[\u001b[39m0\u001b[39m]), axis\u001b[39m=\u001b[39m\u001b[39m0\u001b[39m)\n\u001b[1;32m      5\u001b[0m \u001b[39m# fill newly created rows/columns with new data\u001b[39;00m\n\u001b[1;32m      6\u001b[0m hdf[\u001b[39m'\u001b[39m\u001b[39mcrypto_prices\u001b[39m\u001b[39m'\u001b[39m][\u001b[39m'\u001b[39m\u001b[39myahoo_prices\u001b[39m\u001b[39m'\u001b[39m][mask_lsit\u001b[39m.\u001b[39mshape[\u001b[39m0\u001b[39m]:] \u001b[39m=\u001b[39m mask_lsit\n",
      "File \u001b[0;32m~/Documents/GitHub/crypto_scraping_project/venv/lib/python3.8/site-packages/h5py/_hl/dataset.py:646\u001b[0m, in \u001b[0;36mDataset.resize\u001b[0;34m(self, size, axis)\u001b[0m\n\u001b[1;32m    644\u001b[0m \u001b[39mwith\u001b[39;00m phil:\n\u001b[1;32m    645\u001b[0m     \u001b[39mif\u001b[39;00m \u001b[39mself\u001b[39m\u001b[39m.\u001b[39mchunks \u001b[39mis\u001b[39;00m \u001b[39mNone\u001b[39;00m:\n\u001b[0;32m--> 646\u001b[0m         \u001b[39mraise\u001b[39;00m \u001b[39mTypeError\u001b[39;00m(\u001b[39m\"\u001b[39m\u001b[39mOnly chunked datasets can be resized\u001b[39m\u001b[39m\"\u001b[39m)\n\u001b[1;32m    648\u001b[0m     \u001b[39mif\u001b[39;00m axis \u001b[39mis\u001b[39;00m \u001b[39mnot\u001b[39;00m \u001b[39mNone\u001b[39;00m:\n\u001b[1;32m    649\u001b[0m         \u001b[39mif\u001b[39;00m \u001b[39mnot\u001b[39;00m (axis \u001b[39m>\u001b[39m\u001b[39m=\u001b[39m\u001b[39m0\u001b[39m \u001b[39mand\u001b[39;00m axis \u001b[39m<\u001b[39m \u001b[39mself\u001b[39m\u001b[39m.\u001b[39mid\u001b[39m.\u001b[39mrank):\n",
      "\u001b[0;31mTypeError\u001b[0m: Only chunked datasets can be resized"
     ]
    }
   ],
   "source": [
    "with h5py.File('/Users/emre/Documents/GitHub/crypto_scraping_project/hdf5_data.h5', 'a') as hdf:\n",
    "    mask_lsit = np.array(cryptocurrencies_list) # Convert list of tuples to Numpy array\n",
    "    # resize target dataset and add shape of new data to it\n",
    "    hdf['crypto_prices']['yahoo_prices'].resize((hdf['crypto_prices']['yahoo_prices'].shape[0] + mask_lsit.shape[0]), axis=0)\n",
    "    # fill newly created rows/columns with new data\n",
    "    hdf['crypto_prices']['yahoo_prices'][mask_lsit.shape[0]:] = mask_lsit;"
   ]
  },
  {
   "cell_type": "code",
   "execution_count": 89,
   "metadata": {},
   "outputs": [
    {
     "name": "stdout",
     "output_type": "stream",
     "text": [
      "['crypto_prices']\n"
     ]
    }
   ],
   "source": [
    "# Creating new dataset in existing subgroup\n",
    "\n",
    "with h5py.File('/Users/emre/Documents/GitHub/crypto_scraping_project/hdf5_data.h5', 'r+') as hdf:\n",
    "    print(list(hdf.keys()))\n",
    "    group = hdf['/crypto_prices']\n",
    "    group.create_dataset(\n",
    "        'bitcoin', # name of dataset\n",
    "        data= cryptocurrencies_list, # name of data\n",
    "        maxshape= (None,len(yahoo_cols)), # shape of dataset set up for resizing and appending later\n",
    "        chunks= True, # Set up access pattern\n",
    "    )"
   ]
  },
  {
   "cell_type": "code",
   "execution_count": 90,
   "metadata": {},
   "outputs": [
    {
     "ename": "NameError",
     "evalue": "name 'mask' is not defined",
     "output_type": "error",
     "traceback": [
      "\u001b[0;31m---------------------------------------------------------------------------\u001b[0m",
      "\u001b[0;31mNameError\u001b[0m                                 Traceback (most recent call last)",
      "Cell \u001b[0;32mIn [90], line 1\u001b[0m\n\u001b[0;32m----> 1\u001b[0m mask\n",
      "\u001b[0;31mNameError\u001b[0m: name 'mask' is not defined"
     ]
    }
   ],
   "source": []
  },
  {
   "cell_type": "code",
   "execution_count": null,
   "metadata": {},
   "outputs": [],
   "source": []
  }
 ],
 "metadata": {
  "kernelspec": {
   "display_name": "Python 3.8.13 ('venv': venv)",
   "language": "python",
   "name": "python3"
  },
  "language_info": {
   "codemirror_mode": {
    "name": "ipython",
    "version": 3
   },
   "file_extension": ".py",
   "mimetype": "text/x-python",
   "name": "python",
   "nbconvert_exporter": "python",
   "pygments_lexer": "ipython3",
   "version": "3.8.13"
  },
  "orig_nbformat": 4,
  "vscode": {
   "interpreter": {
    "hash": "a3d0a0195eec492dce79e257cf7676dfb062318eea67dd624c48d2f80eb57d6d"
   }
  }
 },
 "nbformat": 4,
 "nbformat_minor": 2
}
