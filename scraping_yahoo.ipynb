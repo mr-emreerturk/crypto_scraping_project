{
 "cells": [
  {
   "cell_type": "code",
   "execution_count": 91,
   "metadata": {},
   "outputs": [],
   "source": [
    "#Selenium imports\n",
    "from selenium import webdriver\n",
    "from selenium.webdriver.chrome.service import Service\n",
    "from webdriver_manager.chrome import ChromeDriverManager\n",
    "from selenium.webdriver.common.keys import Keys\n",
    "from selenium.webdriver.common.by import By\n",
    "from selenium.webdriver.chrome.options import Options\n",
    "\n",
    "# Rest\n",
    "from bs4 import BeautifulSoup\n",
    "import time\n",
    "import pandas as pd\n",
    "import datetime\n",
    "\n",
    "chrome_options = Options()\n",
    "chrome_options.add_experimental_option(\"detach\", True)"
   ]
  },
  {
   "cell_type": "code",
   "execution_count": 122,
   "metadata": {},
   "outputs": [],
   "source": [
    "def launch_chrome(url):\n",
    "    '''A method to install the latest Chrome driver and get url\n",
    "    ---------\n",
    "    Parameters:\n",
    "    url = url defined by user'''\n",
    "    global driver\n",
    "    # installing driver making sure that new driver is up to date\n",
    "    driver = webdriver.Chrome(service=Service(ChromeDriverManager().install()))\n",
    "    driver.get(url)\n",
    "    return driver\n",
    "\n",
    "def yahoo_header():\n",
    "    '''Returns headers from finance.yahoo.com/cryptocurrencies'''\n",
    "\n",
    "    global cols\n",
    "    target_columns = ['Name', 'Price (Intraday)', 'Market Cap', 'Circulating Supply'] \n",
    "    # Getting all columns on URL using XPATH\n",
    "    cols_mask = driver.find_elements(By.XPATH,'//*[@id=\"scr-res-table\"]/div[1]/table/thead/tr/th')\n",
    "    # Sequencing all elements to list if the header is in target columns\n",
    "    cols = [i.text for i in cols_mask if i.text in target_columns]\n",
    "    # Return final list\n",
    "    return cols\n",
    "\n",
    "def yahoo_body():\n",
    "    global cryptocurrencies_list\n",
    "    if len(cryptocurrencies_list) == 0:\n",
    "        cryptocurrencies_list = []\n",
    "\n",
    "    # Checking length of table on URL\n",
    "    x = len(driver.find_elements(By.XPATH,'//*[@id=\"scr-res-table\"]/div[1]/table/tbody/tr'))\n",
    "\n",
    "    # Looping through every row on URL until last row\n",
    "    for row_n in range(1, x): \n",
    "        # date_time = ct = datetime.datetime.now().strftime(\"%D %T\")\n",
    "\n",
    "        # Finding elements matching to headers using relative XPATH\n",
    "        name = driver.find_element(By.XPATH,f'//*[@id=\"scr-res-table\"]/div[1]/table/tbody/tr[{row_n}]/td[2]') # Name\n",
    "        price = driver.find_element(By.XPATH,f'//*[@id=\"scr-res-table\"]/div[1]/table/tbody/tr[{row_n}]/td[3]') # Price (Intraday)\n",
    "        marketcap = driver.find_element(By.XPATH,f'//*[@id=\"scr-res-table\"]/div[1]/table/tbody/tr[{row_n}]/td[6]') # MarketCap\n",
    "        circ_supply = driver.find_element(By.XPATH,f'//*[@id=\"scr-res-table\"]/div[1]/table/tbody/tr[{row_n}]/td[10]') # Circulating Supply\n",
    "\n",
    "        # Creating Tuple as preperation for HDF5 file\n",
    "        my_tuple = (name.text, price.text, marketcap.text, circ_supply.text)\n",
    "        # Adding to body\n",
    "        cryptocurrencies_list.append(my_tuple)"
   ]
  },
  {
   "cell_type": "code",
   "execution_count": 120,
   "metadata": {},
   "outputs": [
    {
     "data": {
      "text/plain": [
       "72"
      ]
     },
     "execution_count": 120,
     "metadata": {},
     "output_type": "execute_result"
    }
   ],
   "source": [
    "launch_chrome('https://finance.yahoo.com/cryptocurrencies/')\n",
    "yahoo_header()\n",
    "yahoo_body()"
   ]
  },
  {
   "cell_type": "code",
   "execution_count": 121,
   "metadata": {},
   "outputs": [
    {
     "ename": "NameError",
     "evalue": "name 'cryptocurrencies_list' is not defined",
     "output_type": "error",
     "traceback": [
      "\u001b[0;31m---------------------------------------------------------------------------\u001b[0m",
      "\u001b[0;31mNameError\u001b[0m                                 Traceback (most recent call last)",
      "Cell \u001b[0;32mIn [121], line 1\u001b[0m\n\u001b[0;32m----> 1\u001b[0m \u001b[38;5;28mlen\u001b[39m(cryptocurrencies_list)\n",
      "\u001b[0;31mNameError\u001b[0m: name 'cryptocurrencies_list' is not defined"
     ]
    }
   ],
   "source": [
    "len(cryptocurrencies_list)"
   ]
  },
  {
   "cell_type": "code",
   "execution_count": null,
   "metadata": {},
   "outputs": [],
   "source": []
  }
 ],
 "metadata": {
  "kernelspec": {
   "display_name": "Python 3.8.13 ('venv': venv)",
   "language": "python",
   "name": "python3"
  },
  "language_info": {
   "codemirror_mode": {
    "name": "ipython",
    "version": 3
   },
   "file_extension": ".py",
   "mimetype": "text/x-python",
   "name": "python",
   "nbconvert_exporter": "python",
   "pygments_lexer": "ipython3",
   "version": "3.8.13"
  },
  "orig_nbformat": 4,
  "vscode": {
   "interpreter": {
    "hash": "a3d0a0195eec492dce79e257cf7676dfb062318eea67dd624c48d2f80eb57d6d"
   }
  }
 },
 "nbformat": 4,
 "nbformat_minor": 2
}
