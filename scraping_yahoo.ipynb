{
 "cells": [
  {
   "cell_type": "code",
   "execution_count": 8,
   "metadata": {},
   "outputs": [],
   "source": [
    "#Selenium imports\n",
    "from selenium import webdriver\n",
    "from selenium.webdriver.chrome.service import Service\n",
    "from webdriver_manager.chrome import ChromeDriverManager\n",
    "from selenium.webdriver.common.keys import Keys\n",
    "from selenium.webdriver.common.by import By\n",
    "from selenium.webdriver.chrome.options import Options\n",
    "\n",
    "# Rest\n",
    "from bs4 import BeautifulSoup\n",
    "import time\n",
    "import pandas as pd\n",
    "import datetime\n",
    "import h5py\n",
    "import csv\n",
    "\n",
    "# Global settings for the driver\n",
    "chrome_options = Options()\n",
    "chrome_options.add_experimental_option(\"detach\", True)"
   ]
  },
  {
   "cell_type": "code",
   "execution_count": 4,
   "metadata": {},
   "outputs": [],
   "source": [
    "def launch_chrome(url):\n",
    "    '''A method to install the latest Chrome driver and get url\n",
    "    ---------\n",
    "    Parameters:\n",
    "    url = url defined by user'''\n",
    "    \n",
    "    global driver\n",
    "    # installing driver making sure that new driver is up to date\n",
    "    driver = webdriver.Chrome(service=Service(ChromeDriverManager().install()))\n",
    "    driver.get(url)\n",
    "    return driver\n",
    "\n",
    "def yahoo_header():\n",
    "    '''Returns headers from finance.yahoo.com/cryptocurrencies'''\n",
    "\n",
    "    global yahoo_cols\n",
    "    target_columns = ['Name', 'Price (Intraday)', 'Market Cap', 'Circulating Supply'] \n",
    "    # Getting all columns on URL using XPATH\n",
    "    cols_mask = driver.find_elements(By.XPATH,'//*[@id=\"scr-res-table\"]/div[1]/table/thead/tr/th')\n",
    "    # Sequencing all elements to list if the header is in target columns\n",
    "    yahoo_cols = [i.text for i in cols_mask if i.text in target_columns]\n",
    "    # Return final list\n",
    "    return yahoo_cols\n",
    "\n",
    "def yahoo_body():\n",
    "    '''A method that returns the body of the table from finance.yahoo.com/cryptocurrencies'''\n",
    "    \n",
    "    global cryptocurrencies_list\n",
    "    cryptocurrencies_list = []\n",
    "    \n",
    "    # Checking length of table on URL\n",
    "    x = len(driver.find_elements(By.XPATH,'//*[@id=\"scr-res-table\"]/div[1]/table/tbody/tr'))\n",
    "\n",
    "    # Looping through every row on URL until last row\n",
    "    for row_n in range(1, x): \n",
    "        # date_time = ct = datetime.datetime.now().strftime(\"%D %T\")\n",
    "\n",
    "        # Finding elements matching to headers using relative XPATH\n",
    "        name = driver.find_element(By.XPATH,f'//*[@id=\"scr-res-table\"]/div[1]/table/tbody/tr[{row_n}]/td[2]') # Name\n",
    "        price = driver.find_element(By.XPATH,f'//*[@id=\"scr-res-table\"]/div[1]/table/tbody/tr[{row_n}]/td[3]') # Price (Intraday)\n",
    "        marketcap = driver.find_element(By.XPATH,f'//*[@id=\"scr-res-table\"]/div[1]/table/tbody/tr[{row_n}]/td[6]') # MarketCap\n",
    "        circ_supply = driver.find_element(By.XPATH,f'//*[@id=\"scr-res-table\"]/div[1]/table/tbody/tr[{row_n}]/td[10]') # Circulating Supply\n",
    "\n",
    "        # Creating Tuple as preperation for HDF5 file\n",
    "        my_tuple = (name.text, price.text, marketcap.text, circ_supply.text)\n",
    "        # Adding to body\n",
    "        cryptocurrencies_list.append(my_tuple)"
   ]
  },
  {
   "cell_type": "code",
   "execution_count": 5,
   "metadata": {},
   "outputs": [
    {
     "name": "stderr",
     "output_type": "stream",
     "text": [
      "[WDM] - Downloading: 100%|██████████| 8.15M/8.15M [00:01<00:00, 4.92MB/s]\n"
     ]
    },
    {
     "data": {
      "text/plain": [
       "['Name', 'Price (Intraday)', 'Market Cap', 'Circulating Supply']"
      ]
     },
     "execution_count": 5,
     "metadata": {},
     "output_type": "execute_result"
    }
   ],
   "source": [
    "launch_chrome('https://finance.yahoo.com/cryptocurrencies/')\n",
    "yahoo_header()"
   ]
  },
  {
   "cell_type": "code",
   "execution_count": 6,
   "metadata": {},
   "outputs": [],
   "source": [
    "yahoo_body()"
   ]
  },
  {
   "cell_type": "code",
   "execution_count": 7,
   "metadata": {},
   "outputs": [
    {
     "data": {
      "text/plain": [
       "[('Bitcoin USD', '19,288.18', '369.859B', '19.175M'),\n",
       " ('Ethereum USD', '1,309.77', '160.759B', '122.738M'),\n",
       " ('Tether USD', '1.0000', '68.372B', '68.372B'),\n",
       " ('USD Coin USD', '1.0000', '45.968B', '45.967B'),\n",
       " ('BNB USD', '274.61', '44.304B', '161.337M'),\n",
       " ('XRP USD', '0.526190', '26.235B', '49.859B'),\n",
       " ('Binance USD USD', '1.0000', '21.628B', '21.628B'),\n",
       " ('Cardano USD', '0.415811', '14.25B', '34.27B'),\n",
       " ('Solana USD', '32.48', '11.605B', '357.291M'),\n",
       " ('Dogecoin USD', '0.060648', '8.046B', '132.671B'),\n",
       " ('Polygon USD', '0.839763', '7.335B', '8.734B'),\n",
       " ('Polkadot USD', '6.3502', '7.146B', '1.125B'),\n",
       " ('Dai USD', '0.999997', '6.743B', '6.743B'),\n",
       " ('Wrapped TRON USD', '0.063538', '6.46B', '101.676B'),\n",
       " ('Shiba Inu USD', '0.000011', '5.906B', '549.063T'),\n",
       " ('TRON USD', '0.063506', '5.863B', '92.328B'),\n",
       " ('HEX USD', '0.033137', '5.746B', '173.411B'),\n",
       " ('Avalanche USD', '16.61', '4.918B', '296.144M'),\n",
       " ('Uniswap USD', '6.3850', '4.867B', '762.209M'),\n",
       " ('Wrapped Bitcoin USD', '19,280.47', '4.714B', '244,506'),\n",
       " ('Lido Staked ETH USD', '1,301.05', '4.538B', '3.488M'),\n",
       " ('yOUcash USD', '0.511417', '4.407B', '8.617B'),\n",
       " ('UNUS SED LEO USD', '4.0917', '3.903B', '953.954M'),\n",
       " ('Litecoin USD', '53.45', '3.814B', '71.355M')]"
      ]
     },
     "execution_count": 7,
     "metadata": {},
     "output_type": "execute_result"
    }
   ],
   "source": [
    "with "
   ]
  },
  {
   "cell_type": "code",
   "execution_count": 11,
   "metadata": {},
   "outputs": [],
   "source": [
    "with h5py.File('/Users/emre/Documents/GitHub/crypto_scraping_project/hdf5_data.h5', 'w') as hdf:\n",
    "    hdf.create_dataset('yahoo_prices', data=cryptocurrencies_list)\n",
    "\n",
    "with"
   ]
  },
  {
   "cell_type": "code",
   "execution_count": null,
   "metadata": {},
   "outputs": [],
   "source": []
  }
 ],
 "metadata": {
  "kernelspec": {
   "display_name": "Python 3.8.13 ('venv': venv)",
   "language": "python",
   "name": "python3"
  },
  "language_info": {
   "codemirror_mode": {
    "name": "ipython",
    "version": 3
   },
   "file_extension": ".py",
   "mimetype": "text/x-python",
   "name": "python",
   "nbconvert_exporter": "python",
   "pygments_lexer": "ipython3",
   "version": "3.8.13"
  },
  "orig_nbformat": 4,
  "vscode": {
   "interpreter": {
    "hash": "a3d0a0195eec492dce79e257cf7676dfb062318eea67dd624c48d2f80eb57d6d"
   }
  }
 },
 "nbformat": 4,
 "nbformat_minor": 2
}
