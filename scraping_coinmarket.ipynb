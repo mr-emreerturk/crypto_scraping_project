{
 "cells": [
  {
   "cell_type": "code",
   "execution_count": 48,
   "metadata": {},
   "outputs": [],
   "source": [
    "#Selenium imports\n",
    "from selenium import webdriver\n",
    "from selenium.webdriver.chrome.service import Service\n",
    "from webdriver_manager.chrome import ChromeDriverManager\n",
    "from selenium.webdriver.common.keys import Keys\n",
    "from selenium.webdriver.common.by import By\n",
    "from selenium.webdriver.chrome.options import Options\n",
    "from selenium.webdriver.support.wait import WebDriverWait\n",
    "from selenium.webdriver.support import expected_conditions as EC\n",
    "\n",
    "\n",
    "\n",
    "# Rest\n",
    "from bs4 import BeautifulSoup\n",
    "import time\n",
    "import pandas as pd\n",
    "import datetime\n",
    "import h5py\n",
    "import numpy as np\n",
    "\n",
    "# Global settings for the driver\n",
    "chrome_options = Options()\n",
    "chrome_options.add_experimental_option(\"detach\", True) # keeps driver open until manual termination"
   ]
  },
  {
   "cell_type": "code",
   "execution_count": 2,
   "metadata": {},
   "outputs": [],
   "source": [
    "def launch_chrome(url):\n",
    "    '''A method to install the latest Chrome driver and get url\n",
    "    ---------\n",
    "    Parameters:\n",
    "    url = url defined by user'''\n",
    "    \n",
    "    global driver\n",
    "    # installing driver making sure that new driver is up to date\n",
    "    driver = webdriver.Chrome(service=Service(ChromeDriverManager().install()))\n",
    "    driver.get(url)\n",
    "    return driver"
   ]
  },
  {
   "cell_type": "code",
   "execution_count": 13,
   "metadata": {},
   "outputs": [
    {
     "data": {
      "text/plain": [
       "<selenium.webdriver.chrome.webdriver.WebDriver (session=\"122c9acddac91163a64620249511d824\")>"
      ]
     },
     "execution_count": 13,
     "metadata": {},
     "output_type": "execute_result"
    }
   ],
   "source": [
    "launch_chrome('https://coinmarketcap.com/currencies/xrp/project-info/')"
   ]
  },
  {
   "cell_type": "code",
   "execution_count": 60,
   "metadata": {},
   "outputs": [
    {
     "ename": "NoSuchElementException",
     "evalue": "Message: no such element: Unable to locate element: {\"method\":\"xpath\",\"selector\":\"//*[@id=\"__next\"]/div/div[1]/div[2]/div/div[3]/div[2]/div/div[2]/div/div[2]/div[1]/div[2]\"}\n  (Session info: chrome=106.0.5249.103)\nStacktrace:\n0   chromedriver                        0x000000010bc89598 chromedriver + 4404632\n1   chromedriver                        0x000000010bc10fa3 chromedriver + 3911587\n2   chromedriver                        0x000000010b8bde6a chromedriver + 425578\n3   chromedriver                        0x000000010b8f5c91 chromedriver + 654481\n4   chromedriver                        0x000000010b8f5e91 chromedriver + 654993\n5   chromedriver                        0x000000010b92d274 chromedriver + 881268\n6   chromedriver                        0x000000010b913dcd chromedriver + 777677\n7   chromedriver                        0x000000010b92af79 chromedriver + 872313\n8   chromedriver                        0x000000010b913bd3 chromedriver + 777171\n9   chromedriver                        0x000000010b8e8ced chromedriver + 601325\n10  chromedriver                        0x000000010b8e9e51 chromedriver + 605777\n11  chromedriver                        0x000000010bc590ce chromedriver + 4206798\n12  chromedriver                        0x000000010bc5d797 chromedriver + 4224919\n13  chromedriver                        0x000000010bc64a4f chromedriver + 4254287\n14  chromedriver                        0x000000010bc5e4da chromedriver + 4228314\n15  chromedriver                        0x000000010bc3723f chromedriver + 4067903\n16  chromedriver                        0x000000010bc7b6a8 chromedriver + 4347560\n17  chromedriver                        0x000000010bc7b816 chromedriver + 4347926\n18  chromedriver                        0x000000010bc908fe chromedriver + 4434174\n19  libsystem_pthread.dylib             0x00007ff80b98b4e1 _pthread_start + 125\n20  libsystem_pthread.dylib             0x00007ff80b986f6b thread_start + 15\n",
     "output_type": "error",
     "traceback": [
      "\u001b[0;31m---------------------------------------------------------------------------\u001b[0m",
      "\u001b[0;31mNoSuchElementException\u001b[0m                    Traceback (most recent call last)",
      "Cell \u001b[0;32mIn [60], line 28\u001b[0m\n\u001b[1;32m     23\u001b[0m wait \u001b[39m=\u001b[39m WebDriverWait(driver, \u001b[39m10\u001b[39m)\u001b[39m.\u001b[39muntil(\n\u001b[1;32m     24\u001b[0m EC\u001b[39m.\u001b[39mpresence_of_element_located((By\u001b[39m.\u001b[39mCLASS_NAME, \u001b[39m'\u001b[39m\u001b[39mselected\u001b[39m\u001b[39m'\u001b[39m))\n\u001b[1;32m     25\u001b[0m )\n\u001b[1;32m     27\u001b[0m \u001b[39m# Find Social stat attributes\u001b[39;00m\n\u001b[0;32m---> 28\u001b[0m github_commits \u001b[39m=\u001b[39m driver\u001b[39m.\u001b[39mfind_element(By\u001b[39m.\u001b[39mXPATH,\u001b[39m'\u001b[39m\u001b[39m//*[@id=\u001b[39m\u001b[39m\"\u001b[39m\u001b[39m__next\u001b[39m\u001b[39m\"\u001b[39m\u001b[39m]/div/div[1]/div[2]/div/div[3]/div[2]/div/div[2]/div/div[2]/div[1]/div[2]\u001b[39m\u001b[39m'\u001b[39m)\n\u001b[1;32m     29\u001b[0m github_stars \u001b[39m=\u001b[39m driver\u001b[39m.\u001b[39mfind_element(By\u001b[39m.\u001b[39mXPATH,\u001b[39m'\u001b[39m\u001b[39m//*[@id=\u001b[39m\u001b[39m\"\u001b[39m\u001b[39m__next\u001b[39m\u001b[39m\"\u001b[39m\u001b[39m]/div/div[1]/div[2]/div/div[3]/div[2]/div/div[2]/div/div[2]/div[2]/div[2]\u001b[39m\u001b[39m'\u001b[39m)\n\u001b[1;32m     30\u001b[0m github_forks \u001b[39m=\u001b[39m driver\u001b[39m.\u001b[39mfind_element(By\u001b[39m.\u001b[39mXPATH,\u001b[39m'\u001b[39m\u001b[39m//*[@id=\u001b[39m\u001b[39m\"\u001b[39m\u001b[39m__next\u001b[39m\u001b[39m\"\u001b[39m\u001b[39m]/div/div[1]/div[2]/div/div[3]/div[2]/div/div[2]/div/div[2]/div[3]/div[2]\u001b[39m\u001b[39m'\u001b[39m)\n",
      "File \u001b[0;32m~/Documents/GitHub/crypto_scraping_project/venv/lib/python3.8/site-packages/selenium/webdriver/remote/webdriver.py:856\u001b[0m, in \u001b[0;36mWebDriver.find_element\u001b[0;34m(self, by, value)\u001b[0m\n\u001b[1;32m    853\u001b[0m     by \u001b[39m=\u001b[39m By\u001b[39m.\u001b[39mCSS_SELECTOR\n\u001b[1;32m    854\u001b[0m     value \u001b[39m=\u001b[39m \u001b[39m'\u001b[39m\u001b[39m[name=\u001b[39m\u001b[39m\"\u001b[39m\u001b[39m%s\u001b[39;00m\u001b[39m\"\u001b[39m\u001b[39m]\u001b[39m\u001b[39m'\u001b[39m \u001b[39m%\u001b[39m value\n\u001b[0;32m--> 856\u001b[0m \u001b[39mreturn\u001b[39;00m \u001b[39mself\u001b[39;49m\u001b[39m.\u001b[39;49mexecute(Command\u001b[39m.\u001b[39;49mFIND_ELEMENT, {\n\u001b[1;32m    857\u001b[0m     \u001b[39m'\u001b[39;49m\u001b[39musing\u001b[39;49m\u001b[39m'\u001b[39;49m: by,\n\u001b[1;32m    858\u001b[0m     \u001b[39m'\u001b[39;49m\u001b[39mvalue\u001b[39;49m\u001b[39m'\u001b[39;49m: value})[\u001b[39m'\u001b[39m\u001b[39mvalue\u001b[39m\u001b[39m'\u001b[39m]\n",
      "File \u001b[0;32m~/Documents/GitHub/crypto_scraping_project/venv/lib/python3.8/site-packages/selenium/webdriver/remote/webdriver.py:429\u001b[0m, in \u001b[0;36mWebDriver.execute\u001b[0;34m(self, driver_command, params)\u001b[0m\n\u001b[1;32m    427\u001b[0m response \u001b[39m=\u001b[39m \u001b[39mself\u001b[39m\u001b[39m.\u001b[39mcommand_executor\u001b[39m.\u001b[39mexecute(driver_command, params)\n\u001b[1;32m    428\u001b[0m \u001b[39mif\u001b[39;00m response:\n\u001b[0;32m--> 429\u001b[0m     \u001b[39mself\u001b[39;49m\u001b[39m.\u001b[39;49merror_handler\u001b[39m.\u001b[39;49mcheck_response(response)\n\u001b[1;32m    430\u001b[0m     response[\u001b[39m'\u001b[39m\u001b[39mvalue\u001b[39m\u001b[39m'\u001b[39m] \u001b[39m=\u001b[39m \u001b[39mself\u001b[39m\u001b[39m.\u001b[39m_unwrap_value(\n\u001b[1;32m    431\u001b[0m         response\u001b[39m.\u001b[39mget(\u001b[39m'\u001b[39m\u001b[39mvalue\u001b[39m\u001b[39m'\u001b[39m, \u001b[39mNone\u001b[39;00m))\n\u001b[1;32m    432\u001b[0m     \u001b[39mreturn\u001b[39;00m response\n",
      "File \u001b[0;32m~/Documents/GitHub/crypto_scraping_project/venv/lib/python3.8/site-packages/selenium/webdriver/remote/errorhandler.py:243\u001b[0m, in \u001b[0;36mErrorHandler.check_response\u001b[0;34m(self, response)\u001b[0m\n\u001b[1;32m    241\u001b[0m         alert_text \u001b[39m=\u001b[39m value[\u001b[39m'\u001b[39m\u001b[39malert\u001b[39m\u001b[39m'\u001b[39m]\u001b[39m.\u001b[39mget(\u001b[39m'\u001b[39m\u001b[39mtext\u001b[39m\u001b[39m'\u001b[39m)\n\u001b[1;32m    242\u001b[0m     \u001b[39mraise\u001b[39;00m exception_class(message, screen, stacktrace, alert_text)  \u001b[39m# type: ignore[call-arg]  # mypy is not smart enough here\u001b[39;00m\n\u001b[0;32m--> 243\u001b[0m \u001b[39mraise\u001b[39;00m exception_class(message, screen, stacktrace)\n",
      "\u001b[0;31mNoSuchElementException\u001b[0m: Message: no such element: Unable to locate element: {\"method\":\"xpath\",\"selector\":\"//*[@id=\"__next\"]/div/div[1]/div[2]/div/div[3]/div[2]/div/div[2]/div/div[2]/div[1]/div[2]\"}\n  (Session info: chrome=106.0.5249.103)\nStacktrace:\n0   chromedriver                        0x000000010bc89598 chromedriver + 4404632\n1   chromedriver                        0x000000010bc10fa3 chromedriver + 3911587\n2   chromedriver                        0x000000010b8bde6a chromedriver + 425578\n3   chromedriver                        0x000000010b8f5c91 chromedriver + 654481\n4   chromedriver                        0x000000010b8f5e91 chromedriver + 654993\n5   chromedriver                        0x000000010b92d274 chromedriver + 881268\n6   chromedriver                        0x000000010b913dcd chromedriver + 777677\n7   chromedriver                        0x000000010b92af79 chromedriver + 872313\n8   chromedriver                        0x000000010b913bd3 chromedriver + 777171\n9   chromedriver                        0x000000010b8e8ced chromedriver + 601325\n10  chromedriver                        0x000000010b8e9e51 chromedriver + 605777\n11  chromedriver                        0x000000010bc590ce chromedriver + 4206798\n12  chromedriver                        0x000000010bc5d797 chromedriver + 4224919\n13  chromedriver                        0x000000010bc64a4f chromedriver + 4254287\n14  chromedriver                        0x000000010bc5e4da chromedriver + 4228314\n15  chromedriver                        0x000000010bc3723f chromedriver + 4067903\n16  chromedriver                        0x000000010bc7b6a8 chromedriver + 4347560\n17  chromedriver                        0x000000010bc7b816 chromedriver + 4347926\n18  chromedriver                        0x000000010bc908fe chromedriver + 4434174\n19  libsystem_pthread.dylib             0x00007ff80b98b4e1 _pthread_start + 125\n20  libsystem_pthread.dylib             0x00007ff80b986f6b thread_start + 15\n"
     ]
    }
   ],
   "source": [
    "top_crypto = [\n",
    "    'bitcoin', 'ethereum', 'tether', 'usd-coin', 'bnb', 'xrp', 'binance-usd',\n",
    "    'cardano', 'solana', 'dogecoin', 'polkadot-new', 'polygon', 'tron', 'HEX'\n",
    "]\n",
    "\n",
    "crypto_project_info = []\n",
    "\n",
    "for crypto in top_crypto:\n",
    "    launch_chrome(f'https://coinmarketcap.com/currencies/{crypto}/project-info/')\n",
    "    \n",
    "    # Close cookie pop up\n",
    "    cookie = driver.find_element(By.XPATH, '//*[@id=\"cmc-cookie-policy-banner\"]/div[2]')\n",
    "    cookie.click()\n",
    "\n",
    "    # Find \"Social Stats\" under Project Info\n",
    "    element = driver.find_element(By.XPATH, '//*[@id=\"__next\"]/div/div[1]/div[2]/div/div[3]/div[2]/div/div[1]/div[4]')\n",
    "    WebDriverWait(driver, timeout=5)\n",
    "\n",
    "    # Click Social Stats\n",
    "    element.click()\n",
    "\n",
    "    # Wait maximum 10 seconds until Social Stats tag has class = \"selected\"\n",
    "    wait = WebDriverWait(driver, 10).until(\n",
    "    EC.presence_of_element_located((By.CLASS_NAME, 'selected'))\n",
    "    )\n",
    "\n",
    "    # Find Social stat attributes\n",
    "    github_commits = driver.find_element(By.XPATH,'//*[@id=\"__next\"]/div/div[1]/div[2]/div/div[3]/div[2]/div/div[2]/div/div[2]/div[1]/div[2]')\n",
    "    github_stars = driver.find_element(By.XPATH,'//*[@id=\"__next\"]/div/div[1]/div[2]/div/div[3]/div[2]/div/div[2]/div/div[2]/div[2]/div[2]')\n",
    "    github_forks = driver.find_element(By.XPATH,'//*[@id=\"__next\"]/div/div[1]/div[2]/div/div[3]/div[2]/div/div[2]/div/div[2]/div[3]/div[2]')\n",
    "    github_contributors = driver.find_element(By.XPATH,'//*[@id=\"__next\"]/div/div[1]/div[2]/div/div[3]/div[2]/div/div[2]/div/div[2]/div[4]/div[2]')\n",
    "    github_followers = driver.find_element(By.XPATH,'//*[@id=\"__next\"]/div/div[1]/div[2]/div/div[3]/div[2]/div/div[2]/div/div[2]/div[5]/div[2]')\n",
    "    twitter_followers = driver.find_element(By.XPATH,'//*[@id=\"__next\"]/div/div[1]/div[2]/div/div[3]/div[2]/div/div[2]/div/div[2]/div[6]/div[2]')\n",
    "    reddit_members = driver.find_element(By.XPATH,'//*[@id=\"__next\"]/div/div[1]/div[2]/div/div[3]/div[2]/div/div[2]/div/div[2]/div[7]/div[2]')\n",
    "\n",
    "    list = [\n",
    "        github_commits.text, github_stars.text, github_forks.text, \n",
    "        github_contributors.text, github_followers.text, twitter_followers.text, reddit_members.text\n",
    "        ]\n",
    "\n",
    "    list_new = [n.replace(',','') for n in list]\n",
    "    \n",
    "    crypto_project_info.append(list_new)\n"
   ]
  },
  {
   "cell_type": "code",
   "execution_count": 20,
   "metadata": {},
   "outputs": [],
   "source": [
    "github_commits = driver.find_element(By.XPATH,'//*[@id=\"__next\"]/div/div[1]/div[2]/div/div[3]/div[2]/div/div[2]/div/div[2]/div[1]/div[2]')\n",
    "github_stars = driver.find_element(By.XPATH,'//*[@id=\"__next\"]/div/div[1]/div[2]/div/div[3]/div[2]/div/div[2]/div/div[2]/div[2]/div[2]')\n",
    "github_forks = driver.find_element(By.XPATH,'//*[@id=\"__next\"]/div/div[1]/div[2]/div/div[3]/div[2]/div/div[2]/div/div[2]/div[3]/div[2]')\n",
    "github_contributors = driver.find_element(By.XPATH,'//*[@id=\"__next\"]/div/div[1]/div[2]/div/div[3]/div[2]/div/div[2]/div/div[2]/div[4]/div[2]')\n",
    "github_followers = driver.find_element(By.XPATH,'//*[@id=\"__next\"]/div/div[1]/div[2]/div/div[3]/div[2]/div/div[2]/div/div[2]/div[5]/div[2]')\n",
    "twitter_followers = driver.find_element(By.XPATH,'//*[@id=\"__next\"]/div/div[1]/div[2]/div/div[3]/div[2]/div/div[2]/div/div[2]/div[6]/div[2]')\n",
    "reddit_members = driver.find_element(By.XPATH,'//*[@id=\"__next\"]/div/div[1]/div[2]/div/div[3]/div[2]/div/div[2]/div/div[2]/div[7]/div[2]')\n",
    "\n",
    "list = [\n",
    "    github_commits.text, github_stars.text, github_forks.text, \n",
    "    github_contributors.text, github_followers.text, twitter_followers.text, reddit_members.text\n",
    "    ]\n",
    "\n",
    "list_new = [n.replace(',','') for n in list]\n",
    "np.array(list_new)"
   ]
  },
  {
   "cell_type": "code",
   "execution_count": 21,
   "metadata": {},
   "outputs": [],
   "source": [
    "//*[@id=\"__next\"]/div/div[1]/div[2]/div/div[3]/div[2]/div/div[2]/div/div[2]/div[1]/div[2]\n",
    "//*[@id=\"__next\"]/div/div[1]/div[2]/div/div[3]/div[2]/div/div[2]/div/div[2]/div[1]/div[2]\n",
    "<div class=\"selected\">Social Stats</div>\n"
   ]
  },
  {
   "cell_type": "code",
   "execution_count": 22,
   "metadata": {},
   "outputs": [
    {
     "data": {
      "text/plain": [
       "array(['12706', '4229', '1405', '97', '506', '2569415'], dtype='<U7')"
      ]
     },
     "execution_count": 22,
     "metadata": {},
     "output_type": "execute_result"
    }
   ],
   "source": []
  },
  {
   "cell_type": "code",
   "execution_count": 59,
   "metadata": {},
   "outputs": [
    {
     "name": "stdout",
     "output_type": "stream",
     "text": [
      "35,564\n"
     ]
    }
   ],
   "source": [
    "launch_chrome(f'https://coinmarketcap.com/currencies/bitcoin/project-info/')\n",
    "driver.implicitly_wait(10) # seconds\n",
    "\n",
    "# driver.maximize_window()\n",
    "\n",
    "# Cookie element blocks\n",
    "cookie = driver.find_element(By.XPATH, '//*[@id=\"cmc-cookie-policy-banner\"]/div[2]')\n",
    "cookie.click()\n",
    "\n",
    "element = driver.find_element(By.XPATH, '//*[@id=\"__next\"]/div/div[1]/div[2]/div/div[3]/div[2]/div/div[1]/div[4]')\n",
    "WebDriverWait(driver, timeout=5)\n",
    "element.click()\n",
    "wait = WebDriverWait(driver, 10).until(\n",
    "    EC.presence_of_element_located((By.CLASS_NAME, 'selected'))\n",
    "    )\n",
    "\n",
    "\n",
    "github_commits = driver.find_element(By.XPATH,'//*[@id=\"__next\"]/div/div[1]/div[2]/div/div[3]/div[2]/div/div[2]/div/div[2]/div[1]/div[2]')\n",
    "\n",
    "print(github_commits.text)"
   ]
  },
  {
   "cell_type": "code",
   "execution_count": null,
   "metadata": {},
   "outputs": [],
   "source": [
    "driver.find_element(By.TAG_NAME, '<div class=\"selected\">Social Stats</div>')\n",
    "<div class=\"selected\">Social Stats</div>"
   ]
  }
 ],
 "metadata": {
  "kernelspec": {
   "display_name": "Python 3.8.13 ('venv': venv)",
   "language": "python",
   "name": "python3"
  },
  "language_info": {
   "codemirror_mode": {
    "name": "ipython",
    "version": 3
   },
   "file_extension": ".py",
   "mimetype": "text/x-python",
   "name": "python",
   "nbconvert_exporter": "python",
   "pygments_lexer": "ipython3",
   "version": "3.8.13"
  },
  "orig_nbformat": 4,
  "vscode": {
   "interpreter": {
    "hash": "a3d0a0195eec492dce79e257cf7676dfb062318eea67dd624c48d2f80eb57d6d"
   }
  }
 },
 "nbformat": 4,
 "nbformat_minor": 2
}
