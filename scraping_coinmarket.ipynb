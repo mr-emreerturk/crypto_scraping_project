{
 "cells": [
  {
   "cell_type": "code",
   "execution_count": 5,
   "metadata": {},
   "outputs": [],
   "source": [
    "# Selenium imports\n",
    "from selenium import webdriver\n",
    "from selenium.webdriver.chrome.service import Service\n",
    "from webdriver_manager.chrome import ChromeDriverManager\n",
    "from selenium.webdriver.common.keys import Keys\n",
    "from selenium.webdriver.common.by import By\n",
    "from selenium.webdriver.chrome.options import Options\n",
    "from selenium.webdriver.support.wait import WebDriverWait\n",
    "from selenium.webdriver.support import expected_conditions as EC\n",
    "from selenium.common.exceptions import NoSuchElementException\n",
    "\n",
    "\n",
    "# Rest\n",
    "from bs4 import BeautifulSoup\n",
    "import time\n",
    "import pandas as pd\n",
    "import datetime\n",
    "import h5py\n",
    "import numpy as np\n",
    "\n",
    "# Global settings for the driver\n",
    "chrome_options = Options()\n",
    "chrome_options.add_experimental_option(\n",
    "    \"detach\", True\n",
    ")  # keeps driver open until manual termination\n"
   ]
  },
  {
   "cell_type": "code",
   "execution_count": 2,
   "metadata": {},
   "outputs": [],
   "source": [
    "def launch_chrome(url):\n",
    "    \"\"\"A method to install the latest Chrome driver and get url\n",
    "    ---------\n",
    "    Parameters:\n",
    "    url = url defined by user\"\"\"\n",
    "\n",
    "    global driver\n",
    "    # installing driver making sure that new driver is up to date\n",
    "    driver = webdriver.Chrome(service=Service(ChromeDriverManager().install()))\n",
    "    driver.get(url)\n",
    "    return driver\n"
   ]
  },
  {
   "cell_type": "code",
   "execution_count": 11,
   "metadata": {},
   "outputs": [
    {
     "ename": "NoSuchElementException",
     "evalue": "Message: cardano\n",
     "output_type": "error",
     "traceback": [
      "\u001b[0;31m---------------------------------------------------------------------------\u001b[0m",
      "\u001b[0;31mNoSuchElementException\u001b[0m                    Traceback (most recent call last)",
      "Cell \u001b[0;32mIn [11], line 31\u001b[0m\n\u001b[1;32m     30\u001b[0m github_commits \u001b[39m=\u001b[39m driver\u001b[39m.\u001b[39mfind_element(By\u001b[39m.\u001b[39mXPATH,\u001b[39m'\u001b[39m\u001b[39m//*[@id=\u001b[39m\u001b[39m\"\u001b[39m\u001b[39m__next\u001b[39m\u001b[39m\"\u001b[39m\u001b[39m]/div/div[1]/div[2]/div/div[3]/div[2]/div/div[2]/div/div[2]/div[1]/div[2]\u001b[39m\u001b[39m'\u001b[39m)\n\u001b[0;32m---> 31\u001b[0m github_stars \u001b[39m=\u001b[39m driver\u001b[39m.\u001b[39mfind_element(By\u001b[39m.\u001b[39mXPATH,\u001b[39m'\u001b[39m\u001b[39m//*[@id=\u001b[39m\u001b[39m\"\u001b[39m\u001b[39m__next\u001b[39m\u001b[39m\"\u001b[39m\u001b[39m]/div/div[1]/div[2]/div/div[3]/div[2]/div/div[2]/div/div[2]/div[2]/div[2]\u001b[39m\u001b[39m'\u001b[39m)\n\u001b[1;32m     32\u001b[0m github_forks \u001b[39m=\u001b[39m driver\u001b[39m.\u001b[39mfind_element(By\u001b[39m.\u001b[39mXPATH,\u001b[39m'\u001b[39m\u001b[39m//*[@id=\u001b[39m\u001b[39m\"\u001b[39m\u001b[39m__next\u001b[39m\u001b[39m\"\u001b[39m\u001b[39m]/div/div[1]/div[2]/div/div[3]/div[2]/div/div[2]/div/div[2]/div[3]/div[2]\u001b[39m\u001b[39m'\u001b[39m)\n",
      "File \u001b[0;32m~/Documents/GitHub/crypto_scraping_project/venv/lib/python3.8/site-packages/selenium/webdriver/remote/webdriver.py:856\u001b[0m, in \u001b[0;36mWebDriver.find_element\u001b[0;34m(self, by, value)\u001b[0m\n\u001b[1;32m    854\u001b[0m     value \u001b[39m=\u001b[39m \u001b[39m'\u001b[39m\u001b[39m[name=\u001b[39m\u001b[39m\"\u001b[39m\u001b[39m%s\u001b[39;00m\u001b[39m\"\u001b[39m\u001b[39m]\u001b[39m\u001b[39m'\u001b[39m \u001b[39m%\u001b[39m value\n\u001b[0;32m--> 856\u001b[0m \u001b[39mreturn\u001b[39;00m \u001b[39mself\u001b[39;49m\u001b[39m.\u001b[39;49mexecute(Command\u001b[39m.\u001b[39;49mFIND_ELEMENT, {\n\u001b[1;32m    857\u001b[0m     \u001b[39m'\u001b[39;49m\u001b[39musing\u001b[39;49m\u001b[39m'\u001b[39;49m: by,\n\u001b[1;32m    858\u001b[0m     \u001b[39m'\u001b[39;49m\u001b[39mvalue\u001b[39;49m\u001b[39m'\u001b[39;49m: value})[\u001b[39m'\u001b[39m\u001b[39mvalue\u001b[39m\u001b[39m'\u001b[39m]\n",
      "File \u001b[0;32m~/Documents/GitHub/crypto_scraping_project/venv/lib/python3.8/site-packages/selenium/webdriver/remote/webdriver.py:429\u001b[0m, in \u001b[0;36mWebDriver.execute\u001b[0;34m(self, driver_command, params)\u001b[0m\n\u001b[1;32m    428\u001b[0m \u001b[39mif\u001b[39;00m response:\n\u001b[0;32m--> 429\u001b[0m     \u001b[39mself\u001b[39;49m\u001b[39m.\u001b[39;49merror_handler\u001b[39m.\u001b[39;49mcheck_response(response)\n\u001b[1;32m    430\u001b[0m     response[\u001b[39m'\u001b[39m\u001b[39mvalue\u001b[39m\u001b[39m'\u001b[39m] \u001b[39m=\u001b[39m \u001b[39mself\u001b[39m\u001b[39m.\u001b[39m_unwrap_value(\n\u001b[1;32m    431\u001b[0m         response\u001b[39m.\u001b[39mget(\u001b[39m'\u001b[39m\u001b[39mvalue\u001b[39m\u001b[39m'\u001b[39m, \u001b[39mNone\u001b[39;00m))\n",
      "File \u001b[0;32m~/Documents/GitHub/crypto_scraping_project/venv/lib/python3.8/site-packages/selenium/webdriver/remote/errorhandler.py:243\u001b[0m, in \u001b[0;36mErrorHandler.check_response\u001b[0;34m(self, response)\u001b[0m\n\u001b[1;32m    242\u001b[0m     \u001b[39mraise\u001b[39;00m exception_class(message, screen, stacktrace, alert_text)  \u001b[39m# type: ignore[call-arg]  # mypy is not smart enough here\u001b[39;00m\n\u001b[0;32m--> 243\u001b[0m \u001b[39mraise\u001b[39;00m exception_class(message, screen, stacktrace)\n",
      "\u001b[0;31mNoSuchElementException\u001b[0m: Message: no such element: Unable to locate element: {\"method\":\"xpath\",\"selector\":\"//*[@id=\"__next\"]/div/div[1]/div[2]/div/div[3]/div[2]/div/div[2]/div/div[2]/div[2]/div[2]\"}\n  (Session info: chrome=106.0.5249.103)\nStacktrace:\n0   chromedriver                        0x000000010267e598 chromedriver + 4404632\n1   chromedriver                        0x0000000102605fa3 chromedriver + 3911587\n2   chromedriver                        0x00000001022b2e6a chromedriver + 425578\n3   chromedriver                        0x00000001022eac91 chromedriver + 654481\n4   chromedriver                        0x00000001022eae91 chromedriver + 654993\n5   chromedriver                        0x0000000102322274 chromedriver + 881268\n6   chromedriver                        0x0000000102308dcd chromedriver + 777677\n7   chromedriver                        0x000000010231ff79 chromedriver + 872313\n8   chromedriver                        0x0000000102308bd3 chromedriver + 777171\n9   chromedriver                        0x00000001022ddced chromedriver + 601325\n10  chromedriver                        0x00000001022dee51 chromedriver + 605777\n11  chromedriver                        0x000000010264e0ce chromedriver + 4206798\n12  chromedriver                        0x0000000102652797 chromedriver + 4224919\n13  chromedriver                        0x0000000102659a4f chromedriver + 4254287\n14  chromedriver                        0x00000001026534da chromedriver + 4228314\n15  chromedriver                        0x000000010262c23f chromedriver + 4067903\n16  chromedriver                        0x00000001026706a8 chromedriver + 4347560\n17  chromedriver                        0x0000000102670816 chromedriver + 4347926\n18  chromedriver                        0x00000001026858fe chromedriver + 4434174\n19  libsystem_pthread.dylib             0x00007ff80b98b4e1 _pthread_start + 125\n20  libsystem_pthread.dylib             0x00007ff80b986f6b thread_start + 15\n",
      "\nDuring handling of the above exception, another exception occurred:\n",
      "\u001b[0;31mNoSuchElementException\u001b[0m                    Traceback (most recent call last)",
      "Cell \u001b[0;32mIn [11], line 48\u001b[0m\n\u001b[1;32m     45\u001b[0m     crypto_project_info\u001b[39m.\u001b[39mappend(list_new)\n\u001b[1;32m     47\u001b[0m \u001b[39mexcept\u001b[39;00m NoSuchElementException:\n\u001b[0;32m---> 48\u001b[0m     \u001b[39mraise\u001b[39;00m NoSuchElementException(\u001b[39mf\u001b[39m\u001b[39m\"\u001b[39m\u001b[39m{\u001b[39;00mcrypto\u001b[39m}\u001b[39;00m\u001b[39m\"\u001b[39m)\n",
      "\u001b[0;31mNoSuchElementException\u001b[0m: Message: cardano\n"
     ]
    }
   ],
   "source": [
    "top_crypto = [\n",
    "    \"bitcoin\",\n",
    "    \"ethereum\",\n",
    "    \"tether\",\n",
    "    \"usd-coin\",\n",
    "    \"bnb\",\n",
    "    \"xrp\",\n",
    "    \"binance-usd\",\n",
    "    \"cardano\",\n",
    "    \"solana\",\n",
    "    \"dogecoin\",\n",
    "    \"polkadot-new\",\n",
    "    \"polygon\",\n",
    "    \"tron\",\n",
    "    \"HEX\",\n",
    "]\n",
    "\n",
    "crypto_project_info = []\n",
    "\n",
    "for crypto in top_crypto:\n",
    "    try:\n",
    "        launch_chrome(f\"https://coinmarketcap.com/currencies/{crypto}/project-info/\")\n",
    "        driver.implicitly_wait(10)  # seconds\n",
    "\n",
    "        driver.maximize_window()\n",
    "\n",
    "        # Not all pages have an additional layer in dynamic component. If there is no dynamic component, the try block is not needed.\n",
    "        try:\n",
    "            # Cookie element blocks the selection of target element \"Social Stats\"\n",
    "            cookie = driver.find_element(\n",
    "                By.XPATH, '//*[@id=\"cmc-cookie-policy-banner\"]/div[2]'\n",
    "            )\n",
    "            cookie.click()\n",
    "            # Click on element \"Social Stats\" to access target data\n",
    "            element = driver.find_element(\n",
    "                By.XPATH,\n",
    "                '//*[@id=\"__next\"]/div/div[1]/div[2]/div/div[3]/div[2]/div/div[1]/div[4]',\n",
    "            )\n",
    "            WebDriverWait(driver, timeout=5)\n",
    "            element.click()\n",
    "            wait = WebDriverWait(driver, 10).until(\n",
    "                EC.presence_of_element_located((By.CLASS_NAME, \"selected\"))\n",
    "            )\n",
    "        except NoSuchElementException:\n",
    "            pass\n",
    "\n",
    "        github_commits = driver.find_element(\n",
    "            By.XPATH,\n",
    "            '//*[@id=\"__next\"]/div/div[1]/div[2]/div/div[3]/div[2]/div/div[2]/div/div[2]/div[1]/div[2]',\n",
    "        )\n",
    "        github_stars = driver.find_element(\n",
    "            By.XPATH,\n",
    "            '//*[@id=\"__next\"]/div/div[1]/div[2]/div/div[3]/div[2]/div/div[2]/div/div[2]/div[2]/div[2]',\n",
    "        )\n",
    "        github_forks = driver.find_element(\n",
    "            By.XPATH,\n",
    "            '//*[@id=\"__next\"]/div/div[1]/div[2]/div/div[3]/div[2]/div/div[2]/div/div[2]/div[3]/div[2]',\n",
    "        )\n",
    "        github_contributors = driver.find_element(\n",
    "            By.XPATH,\n",
    "            '//*[@id=\"__next\"]/div/div[1]/div[2]/div/div[3]/div[2]/div/div[2]/div/div[2]/div[4]/div[2]',\n",
    "        )\n",
    "        github_followers = driver.find_element(\n",
    "            By.XPATH,\n",
    "            '//*[@id=\"__next\"]/div/div[1]/div[2]/div/div[3]/div[2]/div/div[2]/div/div[2]/div[5]/div[2]',\n",
    "        )\n",
    "        twitter_followers = driver.find_element(\n",
    "            By.XPATH,\n",
    "            '//*[@id=\"__next\"]/div/div[1]/div[2]/div/div[3]/div[2]/div/div[2]/div/div[2]/div[6]/div[2]',\n",
    "        )\n",
    "        reddit_members = driver.find_element(\n",
    "            By.XPATH,\n",
    "            '//*[@id=\"__next\"]/div/div[1]/div[2]/div/div[3]/div[2]/div/div[2]/div/div[2]/div[7]/div[2]',\n",
    "        )\n",
    "\n",
    "        list = [\n",
    "            github_commits.text,\n",
    "            github_stars.text,\n",
    "            github_forks.text,\n",
    "            github_contributors.text,\n",
    "            github_followers.text,\n",
    "            twitter_followers.text,\n",
    "            reddit_members.text,\n",
    "        ]\n",
    "\n",
    "        list_new = [n.replace(\",\", \"\") for n in list]\n",
    "\n",
    "        crypto_project_info.append(list_new)\n",
    "\n",
    "    # Catch errarnous\n",
    "    except NoSuchElementException:\n",
    "        raise NoSuchElementException(f\"{crypto.title()}\")\n"
   ]
  },
  {
   "cell_type": "code",
   "execution_count": 20,
   "metadata": {},
   "outputs": [],
   "source": [
    "github_commits = driver.find_element(By.XPATH,'//*[@id=\"__next\"]/div/div[1]/div[2]/div/div[3]/div[2]/div/div[2]/div/div[2]/div[1]/div[2]')\n",
    "github_stars = driver.find_element(By.XPATH,'//*[@id=\"__next\"]/div/div[1]/div[2]/div/div[3]/div[2]/div/div[2]/div/div[2]/div[2]/div[2]')\n",
    "github_forks = driver.find_element(By.XPATH,'//*[@id=\"__next\"]/div/div[1]/div[2]/div/div[3]/div[2]/div/div[2]/div/div[2]/div[3]/div[2]')\n",
    "github_contributors = driver.find_element(By.XPATH,'//*[@id=\"__next\"]/div/div[1]/div[2]/div/div[3]/div[2]/div/div[2]/div/div[2]/div[4]/div[2]')\n",
    "github_followers = driver.find_element(By.XPATH,'//*[@id=\"__next\"]/div/div[1]/div[2]/div/div[3]/div[2]/div/div[2]/div/div[2]/div[5]/div[2]')\n",
    "twitter_followers = driver.find_element(By.XPATH,'//*[@id=\"__next\"]/div/div[1]/div[2]/div/div[3]/div[2]/div/div[2]/div/div[2]/div[6]/div[2]')\n",
    "reddit_members = driver.find_element(By.XPATH,'//*[@id=\"__next\"]/div/div[1]/div[2]/div/div[3]/div[2]/div/div[2]/div/div[2]/div[7]/div[2]')\n",
    "\n",
    "list = [\n",
    "    github_commits.text, github_stars.text, github_forks.text, \n",
    "    github_contributors.text, github_followers.text, twitter_followers.text, reddit_members.text\n",
    "    ]\n",
    "\n",
    "list_new = [n.replace(',','') for n in list]\n",
    "np.array(list_new)"
   ]
  },
  {
   "cell_type": "code",
   "execution_count": 21,
   "metadata": {},
   "outputs": [],
   "source": [
    "//*[@id=\"__next\"]/div/div[1]/div[2]/div/div[3]/div[2]/div/div[2]/div/div[2]/div[1]/div[2]\n",
    "//*[@id=\"__next\"]/div/div[1]/div[2]/div/div[3]/div[2]/div/div[2]/div/div[2]/div[1]/div[2]"
   ]
  },
  {
   "cell_type": "code",
   "execution_count": 22,
   "metadata": {},
   "outputs": [
    {
     "data": {
      "text/plain": [
       "array(['12706', '4229', '1405', '97', '506', '2569415'], dtype='<U7')"
      ]
     },
     "execution_count": 22,
     "metadata": {},
     "output_type": "execute_result"
    }
   ],
   "source": []
  },
  {
   "cell_type": "code",
   "execution_count": 25,
   "metadata": {},
   "outputs": [
    {
     "ename": "NoSuchElementException",
     "evalue": "Message: no such element: Unable to locate element: {\"method\":\"xpath\",\"selector\":\"//*[@id=\"__next\"]/div/div[1]/div[2]/div/div[3]/div[2]/div/div[1]/div[4]\"}\n  (Session info: chrome=106.0.5249.103)\nStacktrace:\n0   chromedriver                        0x0000000105872598 chromedriver + 4404632\n1   chromedriver                        0x00000001057f9fa3 chromedriver + 3911587\n2   chromedriver                        0x00000001054a6e6a chromedriver + 425578\n3   chromedriver                        0x00000001054dec91 chromedriver + 654481\n4   chromedriver                        0x00000001054dee91 chromedriver + 654993\n5   chromedriver                        0x0000000105516274 chromedriver + 881268\n6   chromedriver                        0x00000001054fcdcd chromedriver + 777677\n7   chromedriver                        0x0000000105513f79 chromedriver + 872313\n8   chromedriver                        0x00000001054fcbd3 chromedriver + 777171\n9   chromedriver                        0x00000001054d1ced chromedriver + 601325\n10  chromedriver                        0x00000001054d2e51 chromedriver + 605777\n11  chromedriver                        0x00000001058420ce chromedriver + 4206798\n12  chromedriver                        0x0000000105846797 chromedriver + 4224919\n13  chromedriver                        0x000000010584da4f chromedriver + 4254287\n14  chromedriver                        0x00000001058474da chromedriver + 4228314\n15  chromedriver                        0x000000010582023f chromedriver + 4067903\n16  chromedriver                        0x00000001058646a8 chromedriver + 4347560\n17  chromedriver                        0x0000000105864816 chromedriver + 4347926\n18  chromedriver                        0x00000001058798fe chromedriver + 4434174\n19  libsystem_pthread.dylib             0x00007ff80b98b4e1 _pthread_start + 125\n20  libsystem_pthread.dylib             0x00007ff80b986f6b thread_start + 15\n",
     "output_type": "error",
     "traceback": [
      "\u001b[0;31m---------------------------------------------------------------------------\u001b[0m",
      "\u001b[0;31mNoSuchElementException\u001b[0m                    Traceback (most recent call last)",
      "Cell \u001b[0;32mIn [25], line 10\u001b[0m\n\u001b[1;32m      7\u001b[0m cookie \u001b[39m=\u001b[39m driver\u001b[39m.\u001b[39mfind_element(By\u001b[39m.\u001b[39mXPATH, \u001b[39m'\u001b[39m\u001b[39m//*[@id=\u001b[39m\u001b[39m\"\u001b[39m\u001b[39mcmc-cookie-policy-banner\u001b[39m\u001b[39m\"\u001b[39m\u001b[39m]/div[2]\u001b[39m\u001b[39m'\u001b[39m)\n\u001b[1;32m      8\u001b[0m cookie\u001b[39m.\u001b[39mclick()\n\u001b[0;32m---> 10\u001b[0m element \u001b[39m=\u001b[39m driver\u001b[39m.\u001b[39mfind_element(\n\u001b[1;32m     11\u001b[0m     By\u001b[39m.\u001b[39mXPATH,\n\u001b[1;32m     12\u001b[0m     \u001b[39m'\u001b[39m\u001b[39m//*[@id=\u001b[39m\u001b[39m\"\u001b[39m\u001b[39m__next\u001b[39m\u001b[39m\"\u001b[39m\u001b[39m]/div/div[1]/div[2]/div/div[3]/div[2]/div/div[1]/div[4]\u001b[39m\u001b[39m'\u001b[39m,\n\u001b[1;32m     13\u001b[0m )\n\u001b[1;32m     14\u001b[0m WebDriverWait(driver, timeout\u001b[39m=\u001b[39m\u001b[39m5\u001b[39m)\n\u001b[1;32m     15\u001b[0m element\u001b[39m.\u001b[39mclick()\n",
      "File \u001b[0;32m~/Documents/GitHub/crypto_scraping_project/venv/lib/python3.8/site-packages/selenium/webdriver/remote/webdriver.py:856\u001b[0m, in \u001b[0;36mWebDriver.find_element\u001b[0;34m(self, by, value)\u001b[0m\n\u001b[1;32m    853\u001b[0m     by \u001b[39m=\u001b[39m By\u001b[39m.\u001b[39mCSS_SELECTOR\n\u001b[1;32m    854\u001b[0m     value \u001b[39m=\u001b[39m \u001b[39m'\u001b[39m\u001b[39m[name=\u001b[39m\u001b[39m\"\u001b[39m\u001b[39m%s\u001b[39;00m\u001b[39m\"\u001b[39m\u001b[39m]\u001b[39m\u001b[39m'\u001b[39m \u001b[39m%\u001b[39m value\n\u001b[0;32m--> 856\u001b[0m \u001b[39mreturn\u001b[39;00m \u001b[39mself\u001b[39;49m\u001b[39m.\u001b[39;49mexecute(Command\u001b[39m.\u001b[39;49mFIND_ELEMENT, {\n\u001b[1;32m    857\u001b[0m     \u001b[39m'\u001b[39;49m\u001b[39musing\u001b[39;49m\u001b[39m'\u001b[39;49m: by,\n\u001b[1;32m    858\u001b[0m     \u001b[39m'\u001b[39;49m\u001b[39mvalue\u001b[39;49m\u001b[39m'\u001b[39;49m: value})[\u001b[39m'\u001b[39m\u001b[39mvalue\u001b[39m\u001b[39m'\u001b[39m]\n",
      "File \u001b[0;32m~/Documents/GitHub/crypto_scraping_project/venv/lib/python3.8/site-packages/selenium/webdriver/remote/webdriver.py:429\u001b[0m, in \u001b[0;36mWebDriver.execute\u001b[0;34m(self, driver_command, params)\u001b[0m\n\u001b[1;32m    427\u001b[0m response \u001b[39m=\u001b[39m \u001b[39mself\u001b[39m\u001b[39m.\u001b[39mcommand_executor\u001b[39m.\u001b[39mexecute(driver_command, params)\n\u001b[1;32m    428\u001b[0m \u001b[39mif\u001b[39;00m response:\n\u001b[0;32m--> 429\u001b[0m     \u001b[39mself\u001b[39;49m\u001b[39m.\u001b[39;49merror_handler\u001b[39m.\u001b[39;49mcheck_response(response)\n\u001b[1;32m    430\u001b[0m     response[\u001b[39m'\u001b[39m\u001b[39mvalue\u001b[39m\u001b[39m'\u001b[39m] \u001b[39m=\u001b[39m \u001b[39mself\u001b[39m\u001b[39m.\u001b[39m_unwrap_value(\n\u001b[1;32m    431\u001b[0m         response\u001b[39m.\u001b[39mget(\u001b[39m'\u001b[39m\u001b[39mvalue\u001b[39m\u001b[39m'\u001b[39m, \u001b[39mNone\u001b[39;00m))\n\u001b[1;32m    432\u001b[0m     \u001b[39mreturn\u001b[39;00m response\n",
      "File \u001b[0;32m~/Documents/GitHub/crypto_scraping_project/venv/lib/python3.8/site-packages/selenium/webdriver/remote/errorhandler.py:243\u001b[0m, in \u001b[0;36mErrorHandler.check_response\u001b[0;34m(self, response)\u001b[0m\n\u001b[1;32m    241\u001b[0m         alert_text \u001b[39m=\u001b[39m value[\u001b[39m'\u001b[39m\u001b[39malert\u001b[39m\u001b[39m'\u001b[39m]\u001b[39m.\u001b[39mget(\u001b[39m'\u001b[39m\u001b[39mtext\u001b[39m\u001b[39m'\u001b[39m)\n\u001b[1;32m    242\u001b[0m     \u001b[39mraise\u001b[39;00m exception_class(message, screen, stacktrace, alert_text)  \u001b[39m# type: ignore[call-arg]  # mypy is not smart enough here\u001b[39;00m\n\u001b[0;32m--> 243\u001b[0m \u001b[39mraise\u001b[39;00m exception_class(message, screen, stacktrace)\n",
      "\u001b[0;31mNoSuchElementException\u001b[0m: Message: no such element: Unable to locate element: {\"method\":\"xpath\",\"selector\":\"//*[@id=\"__next\"]/div/div[1]/div[2]/div/div[3]/div[2]/div/div[1]/div[4]\"}\n  (Session info: chrome=106.0.5249.103)\nStacktrace:\n0   chromedriver                        0x0000000105872598 chromedriver + 4404632\n1   chromedriver                        0x00000001057f9fa3 chromedriver + 3911587\n2   chromedriver                        0x00000001054a6e6a chromedriver + 425578\n3   chromedriver                        0x00000001054dec91 chromedriver + 654481\n4   chromedriver                        0x00000001054dee91 chromedriver + 654993\n5   chromedriver                        0x0000000105516274 chromedriver + 881268\n6   chromedriver                        0x00000001054fcdcd chromedriver + 777677\n7   chromedriver                        0x0000000105513f79 chromedriver + 872313\n8   chromedriver                        0x00000001054fcbd3 chromedriver + 777171\n9   chromedriver                        0x00000001054d1ced chromedriver + 601325\n10  chromedriver                        0x00000001054d2e51 chromedriver + 605777\n11  chromedriver                        0x00000001058420ce chromedriver + 4206798\n12  chromedriver                        0x0000000105846797 chromedriver + 4224919\n13  chromedriver                        0x000000010584da4f chromedriver + 4254287\n14  chromedriver                        0x00000001058474da chromedriver + 4228314\n15  chromedriver                        0x000000010582023f chromedriver + 4067903\n16  chromedriver                        0x00000001058646a8 chromedriver + 4347560\n17  chromedriver                        0x0000000105864816 chromedriver + 4347926\n18  chromedriver                        0x00000001058798fe chromedriver + 4434174\n19  libsystem_pthread.dylib             0x00007ff80b98b4e1 _pthread_start + 125\n20  libsystem_pthread.dylib             0x00007ff80b986f6b thread_start + 15\n"
     ]
    }
   ],
   "source": [
    "launch_chrome(f\"https://coinmarketcap.com/currencies/cardano/project-info/\")\n",
    "driver.implicitly_wait(10)  # seconds\n",
    "\n",
    "driver.maximize_window()\n",
    "\n",
    "# Cookie element blocks\n",
    "try:\n",
    "    cookie = driver.find_element(By.XPATH, '//*[@id=\"cmc-cookie-policy-banner\"]/div[2]')\n",
    "    cookie.click()\n",
    "\n",
    "    element = driver.find_element(\n",
    "        By.XPATH,\n",
    "        '//*[@id=\"__next\"]/div/div[1]/div[2]/div/div[3]/div[2]/div/div[1]/div[4]',\n",
    "    )\n",
    "    WebDriverWait(driver, timeout=5)\n",
    "    element.click()\n",
    "    wait = WebDriverWait(driver, 10).until(\n",
    "        EC.presence_of_element_located((By.CLASS_NAME, \"selected\"))\n",
    "    )\n",
    "except NoSuchElementException:\n",
    "    pass\n",
    "\n",
    "\n",
    "github_commits = driver.find_element(\n",
    "    By.XPATH,\n",
    "    '//*[@id=\"__next\"]/div/div[1]/div[2]/div/div[3]/div[2]/div/div[2]/div/div[2]/div[1]/div[2]',\n",
    ")\n",
    "print(github_commits.text)\n",
    "github_stars = driver.find_element(\n",
    "    By.XPATH,\n",
    "    '//*[@id=\"__next\"]/div/div[1]/div[2]/div/div[3]/div[2]/div/div[2]/div/div[2]/div[2]/div[2]',\n",
    ")\n",
    "github_forks = driver.find_element(\n",
    "    By.XPATH,\n",
    "    '//*[@id=\"__next\"]/div/div[1]/div[2]/div/div[3]/div[2]/div/div[2]/div/div[2]/div[3]/div[2]',\n",
    ")\n",
    "github_contributors = driver.find_element(\n",
    "    By.XPATH,\n",
    "    '//*[@id=\"__next\"]/div/div[1]/div[2]/div/div[3]/div[2]/div/div[2]/div/div[2]/div[4]/div[2]',\n",
    ")\n",
    "github_followers = driver.find_element(\n",
    "    By.XPATH,\n",
    "    '//*[@id=\"__next\"]/div/div[1]/div[2]/div/div[3]/div[2]/div/div[2]/div/div[2]/div[5]/div[2]',\n",
    ")\n",
    "twitter_followers = driver.find_element(\n",
    "    By.XPATH,\n",
    "    '//*[@id=\"__next\"]/div/div[1]/div[2]/div/div[3]/div[2]/div/div[2]/div/div[2]/div[6]/div[2]',\n",
    ")\n",
    "reddit_members = driver.find_element(\n",
    "    By.XPATH,\n",
    "    '//*[@id=\"__next\"]/div/div[1]/div[2]/div/div[3]/div[2]/div/div[2]/div/div[2]/div[7]/div[2]',\n",
    ")\n",
    "\n",
    "list = [\n",
    "    github_commits.text,\n",
    "    github_stars.text,\n",
    "    github_forks.text,\n",
    "    github_contributors.text,\n",
    "    github_followers.text,\n",
    "    twitter_followers.text,\n",
    "    reddit_members.text,\n",
    "]\n",
    "\n",
    "list_new = [n.replace(\",\", \"\") for n in list]\n",
    "\n",
    "crypto_project_info.append(list_new)\n",
    "\n",
    "print(crypto_project_info)\n"
   ]
  },
  {
   "cell_type": "code",
   "execution_count": 20,
   "metadata": {},
   "outputs": [
    {
     "data": {
      "text/plain": [
       "[['35628', '66489', '33099', '878', '3929', '--', '4634477'],\n",
       " ['13723', '39735', '15128', '834', '2181', '2910074', '1502623'],\n",
       " ['--', '--', '--', '--', '--', '299197', '--'],\n",
       " ['836', '358', '216', '17', '24', '--', '--'],\n",
       " ['1', '3750', '2045', '30', '506', '9571719', '876708'],\n",
       " ['12706', '4233', '1406', '97', '506', '2572297', '353502'],\n",
       " ['8', '95', '74', '4', '23', '9571719', '--']]"
      ]
     },
     "execution_count": 20,
     "metadata": {},
     "output_type": "execute_result"
    }
   ],
   "source": [
    "//*[@id=\"__next\"]/div/div[1]/div[2]/div/div[3]/div[2]/div/div[2]/div/div[2]/div[2]/div[2]\n",
    "//*[@id=\"__next\"]/div/div[1]/div[2]/div/div[3]/div[2]/div/div[2]/div/div[2]/div[2]/div[2]"
   ]
  },
  {
   "cell_type": "code",
   "execution_count": 24,
   "metadata": {},
   "outputs": [
    {
     "data": {
      "text/plain": [
       "'Organizations\\nEMURGO Co., Ltd\\nTokyo, Japan, Founded in 2017\\nCardano Foundation\\nZug, Switzerland, Founded in 2016\\nInput Output Hong Kong\\nHong Kong, Founded in 2015'"
      ]
     },
     "execution_count": 24,
     "metadata": {},
     "output_type": "execute_result"
    }
   ],
   "source": [
    "github_commits.text"
   ]
  },
  {
   "cell_type": "code",
   "execution_count": null,
   "metadata": {},
   "outputs": [],
   "source": [
    "top_crypto = [\n",
    "    \"bitcoin\",\n",
    "    \"ethereum\",\n",
    "    \"tether\",\n",
    "    \"usd-coin\",\n",
    "    \"bnb\",\n",
    "    \"xrp\",\n",
    "    \"binance-usd\",\n",
    "    \"cardano\",\n",
    "    \"solana\",\n",
    "    \"dogecoin\",\n",
    "    \"polkadot-new\",\n",
    "    \"polygon\",\n",
    "    \"tron\",\n",
    "    \"HEX\",\n",
    "]\n",
    "\n",
    "crypto_project_info = []\n",
    "\n",
    "for crypto in top_crypto:\n",
    "    try:\n",
    "        launch_chrome(f\"https://coinmarketcap.com/currencies/{crypto}/project-info/\")\n",
    "        driver.implicitly_wait(10)  # seconds\n",
    "\n",
    "        driver.maximize_window()\n",
    "\n",
    "        # Not all pages have an additional layer in dynamic component. If there is no dynamic component, the try block is not needed.\n",
    "        try:\n",
    "            # Cookie element blocks the selection of target element \"Social Stats\"\n",
    "            cookie = driver.find_element(\n",
    "                By.XPATH, '//*[@id=\"cmc-cookie-policy-banner\"]/div[2]'\n",
    "            )\n",
    "            cookie.click()\n",
    "            # Click on element \"Social Stats\" to access target data\n",
    "            element = driver.find_element(\n",
    "                By.XPATH,\n",
    "                '//*[@id=\"__next\"]/div/div[1]/div[2]/div/div[3]/div[2]/div/div[1]/div[4]',\n",
    "            )\n",
    "            WebDriverWait(driver, timeout=5)\n",
    "            element.click()\n",
    "            wait = WebDriverWait(driver, 10).until(\n",
    "                EC.presence_of_element_located((By.CLASS_NAME, \"selected\"))\n",
    "            )\n",
    "        except NoSuchElementException:\n",
    "            pass\n",
    "\n",
    "        github_commits = driver.find_element(\n",
    "            By.XPATH,\n",
    "            '//*[@id=\"__next\"]/div/div[1]/div[2]/div/div[3]/div[2]/div/div[2]/div/div[2]/div[1]/div[2]',\n",
    "        )\n",
    "        github_stars = driver.find_element(\n",
    "            By.XPATH,\n",
    "            '//*[@id=\"__next\"]/div/div[1]/div[2]/div/div[3]/div[2]/div/div[2]/div/div[2]/div[2]/div[2]',\n",
    "        )\n",
    "        github_forks = driver.find_element(\n",
    "            By.XPATH,\n",
    "            '//*[@id=\"__next\"]/div/div[1]/div[2]/div/div[3]/div[2]/div/div[2]/div/div[2]/div[3]/div[2]',\n",
    "        )\n",
    "        github_contributors = driver.find_element(\n",
    "            By.XPATH,\n",
    "            '//*[@id=\"__next\"]/div/div[1]/div[2]/div/div[3]/div[2]/div/div[2]/div/div[2]/div[4]/div[2]',\n",
    "        )\n",
    "        github_followers = driver.find_element(\n",
    "            By.XPATH,\n",
    "            '//*[@id=\"__next\"]/div/div[1]/div[2]/div/div[3]/div[2]/div/div[2]/div/div[2]/div[5]/div[2]',\n",
    "        )\n",
    "        twitter_followers = driver.find_element(\n",
    "            By.XPATH,\n",
    "            '//*[@id=\"__next\"]/div/div[1]/div[2]/div/div[3]/div[2]/div/div[2]/div/div[2]/div[6]/div[2]',\n",
    "        )\n",
    "        reddit_members = driver.find_element(\n",
    "            By.XPATH,\n",
    "            '//*[@id=\"__next\"]/div/div[1]/div[2]/div/div[3]/div[2]/div/div[2]/div/div[2]/div[7]/div[2]',\n",
    "        )\n",
    "\n",
    "        list = [\n",
    "            github_commits.text,\n",
    "            github_stars.text,\n",
    "            github_forks.text,\n",
    "            github_contributors.text,\n",
    "            github_followers.text,\n",
    "            twitter_followers.text,\n",
    "            reddit_members.text,\n",
    "        ]\n",
    "\n",
    "        list_new = [n.replace(\",\", \"\") for n in list]\n",
    "\n",
    "        crypto_project_info.append(list_new)\n",
    "\n",
    "    # Catch errarnous\n",
    "    except NoSuchElementException:\n",
    "        raise NoSuchElementException(f\"{crypto.title()}\")\n"
   ]
  },
  {
   "cell_type": "code",
   "execution_count": 43,
   "metadata": {},
   "outputs": [
    {
     "name": "stdout",
     "output_type": "stream",
     "text": [
      "Team\n",
      "Token Distribution\n",
      "Social Stats\n",
      "['Team', 'Token Distribution', 'Social Stats']\n"
     ]
    },
    {
     "data": {
      "text/plain": [
       "3"
      ]
     },
     "execution_count": 43,
     "metadata": {},
     "output_type": "execute_result"
    }
   ],
   "source": [
    "launch_chrome('https://coinmarketcap.com/currencies/cardano/project-info/')\n",
    "\n",
    "test = driver.find_elements(By.XPATH, '//*[@id=\"__next\"]/div/div[1]/div[2]/div/div[3]/div[2]/div/div[1]')\n",
    "for e in test:\n",
    "    test = e.text.split('\\n')\n",
    "number_of_buttons = len(test)\n",
    "\n",
    "if number_of_buttons == 2:\n",
    "    2\n",
    "elif number_of_buttons == 3:\n",
    "    3\n",
    "elif number_of_buttons == 4:\n",
    "    4\n",
    "else:\n",
    "    1\n"
   ]
  },
  {
   "cell_type": "code",
   "execution_count": 41,
   "metadata": {},
   "outputs": [
    {
     "data": {
      "text/plain": [
       "['Team\\nToken Distribution\\nSocial Stats']"
      ]
     },
     "execution_count": 41,
     "metadata": {},
     "output_type": "execute_result"
    }
   ],
   "source": [
    "mask_list"
   ]
  },
  {
   "cell_type": "code",
   "execution_count": null,
   "metadata": {},
   "outputs": [],
   "source": [
    "sc-1j943vo-0 gShtRn\n",
    "sc-1j943vo-2 dNZpHx"
   ]
  }
 ],
 "metadata": {
  "kernelspec": {
   "display_name": "Python 3.8.13 ('venv': venv)",
   "language": "python",
   "name": "python3"
  },
  "language_info": {
   "codemirror_mode": {
    "name": "ipython",
    "version": 3
   },
   "file_extension": ".py",
   "mimetype": "text/x-python",
   "name": "python",
   "nbconvert_exporter": "python",
   "pygments_lexer": "ipython3",
   "version": "3.8.13"
  },
  "orig_nbformat": 4,
  "vscode": {
   "interpreter": {
    "hash": "a3d0a0195eec492dce79e257cf7676dfb062318eea67dd624c48d2f80eb57d6d"
   }
  }
 },
 "nbformat": 4,
 "nbformat_minor": 2
}
