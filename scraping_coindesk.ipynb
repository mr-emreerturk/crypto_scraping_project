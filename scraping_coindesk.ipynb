{
 "cells": [
  {
   "cell_type": "code",
   "execution_count": 9,
   "metadata": {},
   "outputs": [],
   "source": [
    "# Selenium imports\n",
    "from selenium import webdriver\n",
    "from selenium.webdriver.chrome.service import Service\n",
    "from webdriver_manager.chrome import ChromeDriverManager\n",
    "from selenium.webdriver.common.keys import Keys\n",
    "from selenium.webdriver.common.by import By\n",
    "from selenium.webdriver.chrome.options import Options\n",
    "from selenium.webdriver.support.wait import WebDriverWait\n",
    "from selenium.webdriver.support import expected_conditions as EC\n",
    "from selenium.common.exceptions import NoSuchElementException\n",
    "\n",
    "\n",
    "# Rest\n",
    "from bs4 import BeautifulSoup\n",
    "import time\n",
    "import pandas as pd\n",
    "import datetime\n",
    "import h5py\n",
    "import numpy as np\n",
    "\n",
    "# Global settings for the driver\n",
    "chrome_options = Options()\n",
    "chrome_options.add_experimental_option(\n",
    "    \"detach\", True\n",
    ")  # keeps driver open until manual termination\n"
   ]
  },
  {
   "cell_type": "code",
   "execution_count": 10,
   "metadata": {},
   "outputs": [],
   "source": [
    "def launch_chrome(url):\n",
    "    \"\"\"A method to install the latest Chrome driver and get url\n",
    "    ---------\n",
    "    Parameters:\n",
    "    url = url defined by user\"\"\"\n",
    "\n",
    "    global driver\n",
    "    # installing driver making sure that new driver is up to date\n",
    "    driver = webdriver.Chrome(service=Service(ChromeDriverManager().install()))\n",
    "    driver.get(url)\n",
    "    return driver\n"
   ]
  },
  {
   "cell_type": "code",
   "execution_count": 30,
   "metadata": {},
   "outputs": [],
   "source": [
    "top_crypto = [\n",
    "    \"bitcoin\",\n",
    "    \"ethereum\",\n",
    "    \"tether\",\n",
    "    \"usd-coin\",\n",
    "    \"bnb\",\n",
    "    \"xrp\",\n",
    "    \"binance-usd\",\n",
    "    \"cardano\",\n",
    "    \"solana\",\n",
    "    \"dogecoin\",\n",
    "    \"polkadot-new\",\n",
    "    \"polygon\",\n",
    "    \"tron\",\n",
    "]\n",
    "\n",
    "news_list = []\n",
    "\n",
    "for crypto in top_crypto:\n",
    "    \n",
    "    launch_chrome(f\"https://www.coindesk.com/search?s={crypto}&df=24\")\n",
    "    date = datetime.datetime.now().strftime(\"%D\")\n",
    "    coin = crypto\n",
    "    news = driver.find_element(\n",
    "        By.XPATH, '//*[@id=\"queryly_advanced_container\"]/div[5]/div[1]/div[1]/span/h6'\n",
    "    )\n",
    "    news_list.append([date, coin, int(news.text.split(\" \")[1])])\n",
    "\n",
    "driver.quit()\n"
   ]
  },
  {
   "cell_type": "code",
   "execution_count": 31,
   "metadata": {},
   "outputs": [
    {
     "data": {
      "text/plain": [
       "[['10/14/22', 'bitcoin', 36],\n",
       " ['10/14/22', 'ethereum', 14],\n",
       " ['10/14/22', 'tether', 11],\n",
       " ['10/14/22', 'usd-coin', 0],\n",
       " ['10/14/22', 'bnb', 0],\n",
       " ['10/14/22', 'xrp', 0],\n",
       " ['10/14/22', 'binance-usd', 0],\n",
       " ['10/14/22', 'cardano', 0],\n",
       " ['10/14/22', 'solana', 4],\n",
       " ['10/14/22', 'dogecoin', 0],\n",
       " ['10/14/22', 'polkadot-new', 1],\n",
       " ['10/14/22', 'polygon', 3],\n",
       " ['10/14/22', 'tron', 2]]"
      ]
     },
     "execution_count": 31,
     "metadata": {},
     "output_type": "execute_result"
    }
   ],
   "source": [
    "news_list"
   ]
  },
  {
   "cell_type": "code",
   "execution_count": null,
   "metadata": {},
   "outputs": [],
   "source": []
  }
 ],
 "metadata": {
  "kernelspec": {
   "display_name": "Python 3.8.13 ('venv': venv)",
   "language": "python",
   "name": "python3"
  },
  "language_info": {
   "codemirror_mode": {
    "name": "ipython",
    "version": 3
   },
   "file_extension": ".py",
   "mimetype": "text/x-python",
   "name": "python",
   "nbconvert_exporter": "python",
   "pygments_lexer": "ipython3",
   "version": "3.8.13"
  },
  "orig_nbformat": 4,
  "vscode": {
   "interpreter": {
    "hash": "a3d0a0195eec492dce79e257cf7676dfb062318eea67dd624c48d2f80eb57d6d"
   }
  }
 },
 "nbformat": 4,
 "nbformat_minor": 2
}
