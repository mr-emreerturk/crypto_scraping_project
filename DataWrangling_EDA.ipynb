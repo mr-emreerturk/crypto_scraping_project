{
 "cells": [
  {
   "cell_type": "markdown",
   "metadata": {},
   "source": [
    "# Data Wrangling & Exploratory Data Analysis"
   ]
  },
  {
   "cell_type": "markdown",
   "metadata": {},
   "source": [
    "## Cleaning of scraped data\n",
    "\n",
    "This section focuses on cleaning of the raw data which was scraped of the following websites:\n",
    "- [Yahoo Finance](yahoo.finance/cryptocurrencies)\n",
    "- [Coin Market](Capcoinmarketcap.com)\n",
    "- [Coindesk](coindesk.com)\n",
    "\n",
    "Also check following file 👉 [Main.py](https://github.com/mr-emreerturk/crypto_scraping_project/blob/main/main.py) and the [README](https://github.com/mr-emreerturk/crypto_scraping_project/blob/main/README.md)for more context."
   ]
  },
  {
   "cell_type": "markdown",
   "metadata": {},
   "source": [
    "### Imports & Constants\n"
   ]
  },
  {
   "cell_type": "code",
   "execution_count": 314,
   "metadata": {},
   "outputs": [],
   "source": [
    "# Import all necesssary modules\n",
    "import pandas as pd\n",
    "import numpy as np\n",
    "import h5py\n",
    "\n",
    "# Define file path of H5 filea s constant\n",
    "PATH = \"/Users/emre/Documents/GitHub/crypto_scraping_project/data.h5\""
   ]
  },
  {
   "cell_type": "markdown",
   "metadata": {},
   "source": [
    "### Loading files into dataframes\n"
   ]
  },
  {
   "cell_type": "code",
   "execution_count": 315,
   "metadata": {},
   "outputs": [],
   "source": [
    "# https://stackoverflow.com/questions/40472912/hdf5-file-to-pandas-dataframe\n",
    "# Read all datasets into dataframes by transforming the h5 file into an array first\n",
    "df_prices = pd.DataFrame(np.array(h5py.File(PATH)[\"yahoo_prices\"]))\n",
    "df_news = pd.DataFrame(np.array(h5py.File(PATH)[\"news_data\"]))\n",
    "df_dev = pd.DataFrame(np.array(h5py.File(PATH)[\"dev_data\"]))"
   ]
  },
  {
   "cell_type": "markdown",
   "metadata": {},
   "source": [
    "### Convert all entries to strings"
   ]
  },
  {
   "cell_type": "code",
   "execution_count": 316,
   "metadata": {},
   "outputs": [],
   "source": [
    "df_prices = df_prices.astype(\"str\")\n",
    "df_dev = df_dev.astype(\"str\")\n",
    "df_news = df_news.astype(\"str\")"
   ]
  },
  {
   "cell_type": "markdown",
   "metadata": {},
   "source": [
    "### Replace import substrings \"b\" & \"''\""
   ]
  },
  {
   "cell_type": "code",
   "execution_count": null,
   "metadata": {},
   "outputs": [],
   "source": [
    "# Elimate imported string b & ''\n",
    "df_list_mask = [df_prices, df_dev, df_news]  # list of all dataframes\n",
    "for x in df_list_mask:  # loop through all dataframes\n",
    "    for n in range(0, len(x.columns)):  # loop through columns of each df\n",
    "        for m in range(0, len(x)):  # loop through length of rows\n",
    "            x[n][m] = (\n",
    "                x[n][m].replace(\"b'\", \"\").replace(\"'\", \"\")\n",
    "            )  # Replace substring \"b & ''\""
   ]
  },
  {
   "cell_type": "markdown",
   "metadata": {},
   "source": [
    "### Change column names"
   ]
  },
  {
   "cell_type": "code",
   "execution_count": 317,
   "metadata": {},
   "outputs": [],
   "source": [
    "# Change column names\n",
    "df_prices = df_prices.rename(\n",
    "    {\n",
    "        0: \"date\",\n",
    "        1: \"name\",\n",
    "        2: \"price\",\n",
    "        3: \"market_cap\",\n",
    "        4: \"circulating_supply\",\n",
    "    },\n",
    "    axis=1,\n",
    ")\n",
    "\n",
    "df_dev = df_dev.rename(\n",
    "    {\n",
    "        0: \"date\",\n",
    "        1: \"name\",\n",
    "        2: \"github_commits\",\n",
    "        3: \"github_stars\",\n",
    "        4: \"github_forks\",\n",
    "        5: \"github_contributors\",\n",
    "        6: \"github_followers\",\n",
    "        7: \"twitter_followers\",\n",
    "        8: \"reddit_members\",\n",
    "    },\n",
    "    axis=1,\n",
    ")\n",
    "\n",
    "\n",
    "df_news = df_news.rename(\n",
    "    {\n",
    "        0: \"date\",\n",
    "        1: \"name\",\n",
    "        2: \"amount_news_articles\",\n",
    "    },\n",
    "    axis=1,\n",
    ")"
   ]
  },
  {
   "cell_type": "markdown",
   "metadata": {},
   "source": [
    "### Standartize crypto names in `df_prices`"
   ]
  },
  {
   "cell_type": "markdown",
   "metadata": {},
   "source": [
    "#### Filter to crypto used in other dataframes"
   ]
  },
  {
   "cell_type": "code",
   "execution_count": null,
   "metadata": {},
   "outputs": [],
   "source": [
    "# Drop last 3 letters \"USD\", strip all whitespace from head & tail of string, and add hypen between words when whitespace\n",
    "df_prices.name = df_prices.name.str[:-3].str.lower().str.strip().str.replace(\" \", \"-\")\n",
    "\n",
    "top_crypto = [ # Filter for crypto used in other datasets\n",
    "        \"bitcoin\",\n",
    "        \"ethereum\",\n",
    "        \"tether\",\n",
    "        \"usd-coin\",\n",
    "        \"bnb\",\n",
    "        \"xrp\",\n",
    "        \"binance-usd\",\n",
    "        \"cardano\",\n",
    "        \"solana\",\n",
    "        \"dogecoin\",\n",
    "        \"polygon\",\n",
    "        \"tron\",\n",
    "    ]\n",
    "\n",
    "df_prices = df_prices[df_prices.name.isin(top_crypto)]"
   ]
  },
  {
   "cell_type": "markdown",
   "metadata": {},
   "source": [
    "### Correction of dtypes"
   ]
  },
  {
   "cell_type": "code",
   "execution_count": 304,
   "metadata": {},
   "outputs": [],
   "source": [
    "# Change dtypes of columns\n",
    "from numpy import NaN #import numpy's NaN\n",
    "\n",
    "# Change date dtype in df_prices\n",
    "df_prices.date = pd.to_datetime(df_prices.date)\n",
    "\n",
    "df_prices.price = df_prices.price.apply(\n",
    "    lambda x: float(x.replace(\",\", \"\"))\n",
    ")  # Remove comma from number and covnert to float\n",
    "\n",
    "df_prices.market_cap = df_prices.market_cap.apply(\n",
    "    lambda x: float(x.strip(\"B\")) * 1_000_000_000\n",
    ")  # Replace billion with real number in market_cap column\n",
    "\n",
    "df_prices.circulating_supply = df_prices.circulating_supply.apply(\n",
    "    lambda x: float(x.strip(\"B\")) * 1_000_000_000\n",
    "    if (x[-1] == \"B\")\n",
    "    else float(x.strip(\"M\")) * 1_000_000\n",
    ") # Replace billion and million with real number in circulating supply column\n",
    "\n",
    "# Change date in df_dev\n",
    "df_dev.date = pd.to_datetime(df_dev.date)\n",
    "# Replace '--' with NaN and convert to float\n",
    "for x in df_dev.columns:\n",
    "    df_dev[x] = df_dev[x].replace(\"--\", np.nan, regex=True)\n",
    "df_dev.loc[:,\"github_commits\":\"reddit_members\"] = df_dev.loc[:,\"github_commits\":\"reddit_members\"].astype(float).round(0)\n",
    "\n",
    "# Change date in df_news\n",
    "df_news.date = pd.to_datetime(df_news.date)\n",
    "# Change dtype of amount_news_articles to int\n",
    "df_news.amount_news_articles = df_news.amount_news_articles.astype(int)"
   ]
  },
  {
   "cell_type": "markdown",
   "metadata": {},
   "source": [
    "## EDA"
   ]
  },
  {
   "cell_type": "markdown",
   "metadata": {},
   "source": []
  }
 ],
 "metadata": {
  "kernelspec": {
   "display_name": "Python 3.8.13 ('venv': venv)",
   "language": "python",
   "name": "python3"
  },
  "language_info": {
   "codemirror_mode": {
    "name": "ipython",
    "version": 3
   },
   "file_extension": ".py",
   "mimetype": "text/x-python",
   "name": "python",
   "nbconvert_exporter": "python",
   "pygments_lexer": "ipython3",
   "version": "3.8.13"
  },
  "orig_nbformat": 4,
  "vscode": {
   "interpreter": {
    "hash": "a3d0a0195eec492dce79e257cf7676dfb062318eea67dd624c48d2f80eb57d6d"
   }
  }
 },
 "nbformat": 4,
 "nbformat_minor": 2
}
