{
 "cells": [
  {
   "cell_type": "markdown",
   "metadata": {},
   "source": [
    "# Data Wrangling & Exploratory Data Analysis\n"
   ]
  },
  {
   "cell_type": "markdown",
   "metadata": {},
   "source": [
    "## Cleaning of scraped data\n",
    "\n",
    "This section focuses on cleaning of the raw data which was scraped of the following websites:\n",
    "\n",
    "- [Yahoo Finance](yahoo.finance/cryptocurrencies)\n",
    "- [Coin Market](Capcoinmarketcap.com)\n",
    "- [Coindesk](coindesk.com)\n",
    "\n",
    "Also check following file 👉 [Main.py](https://github.com/mr-emreerturk/crypto_scraping_project/blob/main/main.py) and the [README](https://github.com/mr-emreerturk/crypto_scraping_project/blob/main/README.md) for more context.\n"
   ]
  },
  {
   "cell_type": "markdown",
   "metadata": {},
   "source": [
    "### Imports & Constants\n"
   ]
  },
  {
   "cell_type": "code",
   "execution_count": 35,
   "metadata": {},
   "outputs": [],
   "source": [
    "# Import all necesssary modules\n",
    "import pandas as pd\n",
    "import numpy as np\n",
    "import h5py\n",
    "import seaborn as sns\n",
    "import matplotlib.pyplot as plt\n",
    "%matplotlib inline\n",
    "\n",
    "# Define file path of H5 file as constant\n",
    "PATH = \"/Users/emre/Documents/GitHub/crypto_scraping_project/data.h5\""
   ]
  },
  {
   "cell_type": "markdown",
   "metadata": {},
   "source": [
    "### Loading files into dataframes\n"
   ]
  },
  {
   "cell_type": "code",
   "execution_count": 36,
   "metadata": {},
   "outputs": [],
   "source": [
    "# https://stackoverflow.com/questions/40472912/hdf5-file-to-pandas-dataframe\n",
    "# Read all datasets into dataframes by transforming the h5 file into an array first\n",
    "df_prices = pd.DataFrame(np.array(h5py.File(PATH)[\"yahoo_prices\"]))\n",
    "df_news = pd.DataFrame(np.array(h5py.File(PATH)[\"news_data\"]))\n",
    "df_dev = pd.DataFrame(np.array(h5py.File(PATH)[\"dev_data\"]))\n"
   ]
  },
  {
   "cell_type": "markdown",
   "metadata": {},
   "source": [
    "### Convert all entries to strings\n"
   ]
  },
  {
   "cell_type": "code",
   "execution_count": 37,
   "metadata": {},
   "outputs": [],
   "source": [
    "df_prices = df_prices.astype(\"str\")\n",
    "df_dev = df_dev.astype(\"str\")\n",
    "df_news = df_news.astype(\"str\")\n"
   ]
  },
  {
   "cell_type": "markdown",
   "metadata": {},
   "source": [
    "### Replace import substrings \"b\" & \"''\"\n"
   ]
  },
  {
   "cell_type": "code",
   "execution_count": 38,
   "metadata": {},
   "outputs": [],
   "source": [
    "# Elimate imported string b & ''\n",
    "df_list_mask = [df_prices, df_dev, df_news]  # list of all dataframes\n",
    "for x in df_list_mask:  # loop through all dataframes\n",
    "    for n in range(0, len(x.columns)):  # loop through columns of each df\n",
    "        for m in range(0, len(x)):  # loop through length of rows\n",
    "            x[n][m] = (\n",
    "                x[n][m].replace(\"b'\", \"\").replace(\"'\", \"\")\n",
    "            )  # Replace substring \"b & ''\"\n"
   ]
  },
  {
   "cell_type": "markdown",
   "metadata": {},
   "source": [
    "### Change column names\n"
   ]
  },
  {
   "cell_type": "code",
   "execution_count": 39,
   "metadata": {},
   "outputs": [],
   "source": [
    "# Change column names\n",
    "df_prices = df_prices.rename(\n",
    "    {\n",
    "        0: \"date\",\n",
    "        1: \"name\",\n",
    "        2: \"price\",\n",
    "        3: \"market_cap\",\n",
    "        4: \"circulating_supply\",\n",
    "    },\n",
    "    axis=1,\n",
    ")\n",
    "\n",
    "df_dev = df_dev.rename(\n",
    "    {\n",
    "        0: \"date\",\n",
    "        1: \"name\",\n",
    "        2: \"github_commits\",\n",
    "        3: \"github_stars\",\n",
    "        4: \"github_forks\",\n",
    "        5: \"github_contributors\",\n",
    "        6: \"github_followers\",\n",
    "        7: \"twitter_followers\",\n",
    "        8: \"reddit_members\",\n",
    "    },\n",
    "    axis=1,\n",
    ")\n",
    "\n",
    "\n",
    "df_news = df_news.rename(\n",
    "    {\n",
    "        0: \"date\",\n",
    "        1: \"name\",\n",
    "        2: \"amount_news_articles\",\n",
    "    },\n",
    "    axis=1,\n",
    ")\n"
   ]
  },
  {
   "cell_type": "markdown",
   "metadata": {},
   "source": [
    "### Standartize crypto names in `df_prices`\n"
   ]
  },
  {
   "cell_type": "markdown",
   "metadata": {},
   "source": [
    "#### Filter to crypto used in other dataframes\n"
   ]
  },
  {
   "cell_type": "code",
   "execution_count": 40,
   "metadata": {},
   "outputs": [],
   "source": [
    "# Drop last 3 letters \"USD\", strip all whitespace from head & tail of string, and add hypen between words when whitespace\n",
    "df_prices.name = df_prices.name.str[:-3].str.lower().str.strip().str.replace(\" \", \"-\")\n",
    "\n",
    "top_crypto = [  # Filter for crypto used in other datasets\n",
    "    \"bitcoin\",\n",
    "    \"ethereum\",\n",
    "    \"tether\",\n",
    "    \"usd-coin\",\n",
    "    \"bnb\",\n",
    "    \"xrp\",\n",
    "    \"binance-usd\",\n",
    "    \"cardano\",\n",
    "    \"solana\",\n",
    "    \"dogecoin\",\n",
    "    \"polygon\",\n",
    "    \"tron\",\n",
    "]\n",
    "\n",
    "df_prices = df_prices[df_prices.name.isin(top_crypto)]\n"
   ]
  },
  {
   "cell_type": "markdown",
   "metadata": {},
   "source": [
    "### Correction of dtypes\n"
   ]
  },
  {
   "cell_type": "code",
   "execution_count": 41,
   "metadata": {},
   "outputs": [
    {
     "name": "stderr",
     "output_type": "stream",
     "text": [
      "/var/folders/9c/dzx7wkbs2sn6_g919b67k6yc0000gn/T/ipykernel_21241/1933040165.py:26: FutureWarning: In a future version, `df.iloc[:, i] = newvals` will attempt to set the values inplace instead of always setting a new array. To retain the old behavior, use either `df[df.columns[i]] = newvals` or, if columns are non-unique, `df.isetitem(i, newvals)`\n",
      "  df_dev.loc[:, \"github_commits\":\"reddit_members\"] = (\n"
     ]
    }
   ],
   "source": [
    "# Change dtypes of columns\n",
    "from numpy import NaN  # import numpy's NaN\n",
    "\n",
    "# Change date dtype in df_prices\n",
    "df_prices.date = pd.to_datetime(df_prices.date)\n",
    "\n",
    "df_prices.price = df_prices.price.apply(\n",
    "    lambda x: float(x.replace(\",\", \"\"))\n",
    ")  # Remove comma from number and covnert to float\n",
    "\n",
    "df_prices.market_cap = df_prices.market_cap.apply(\n",
    "    lambda x: float(x.strip(\"B\")) * 1_000_000_000\n",
    ")  # Replace billion with real number in market_cap column\n",
    "\n",
    "df_prices.circulating_supply = df_prices.circulating_supply.apply(\n",
    "    lambda x: float(x.strip(\"B\")) * 1_000_000_000\n",
    "    if (x[-1] == \"B\")\n",
    "    else float(x.strip(\"M\")) * 1_000_000\n",
    ")  # Replace billion and million with real number in circulating supply column\n",
    "\n",
    "# Change date in df_dev\n",
    "df_dev.date = pd.to_datetime(df_dev.date)\n",
    "# Replace '--' with NaN and convert to float\n",
    "for x in df_dev.columns:\n",
    "    df_dev[x] = df_dev[x].replace(\"--\", np.nan, regex=True)\n",
    "df_dev.loc[:, \"github_commits\":\"reddit_members\"] = (\n",
    "    df_dev.loc[:, \"github_commits\":\"reddit_members\"].astype(float).round(0)\n",
    ")\n",
    "\n",
    "# Change date in df_news\n",
    "df_news.date = pd.to_datetime(df_news.date)\n",
    "# Change dtype of amount_news_articles to int\n",
    "df_news.amount_news_articles = df_news.amount_news_articles.astype(int)\n"
   ]
  },
  {
   "cell_type": "markdown",
   "metadata": {},
   "source": [
    "### Concat all dataframes in one big dataframe\n"
   ]
  },
  {
   "cell_type": "code",
   "execution_count": 42,
   "metadata": {},
   "outputs": [],
   "source": [
    "for x in [df_prices, df_dev, df_news]:\n",
    "    x.sort_values(by=\"name\", inplace=True)  # Sort all dataframes\n",
    "\n",
    "# Merge dataframes on an inner join on \"date\" and \"name\"\n",
    "df_mask = df_prices.merge(\n",
    "    df_dev, how=\"inner\", left_on=[\"date\", \"name\"], right_on=[\"date\", \"name\"]\n",
    ")\n",
    "df = df_mask.merge(\n",
    "    df_news, how=\"inner\", left_on=[\"date\", \"name\"], right_on=[\"date\", \"name\"]\n",
    ")\n"
   ]
  },
  {
   "cell_type": "code",
   "execution_count": 43,
   "metadata": {},
   "outputs": [
    {
     "data": {
      "text/html": [
       "<div>\n",
       "<style scoped>\n",
       "    .dataframe tbody tr th:only-of-type {\n",
       "        vertical-align: middle;\n",
       "    }\n",
       "\n",
       "    .dataframe tbody tr th {\n",
       "        vertical-align: top;\n",
       "    }\n",
       "\n",
       "    .dataframe thead th {\n",
       "        text-align: right;\n",
       "    }\n",
       "</style>\n",
       "<table border=\"1\" class=\"dataframe\">\n",
       "  <thead>\n",
       "    <tr style=\"text-align: right;\">\n",
       "      <th></th>\n",
       "      <th>date</th>\n",
       "      <th>name</th>\n",
       "      <th>price</th>\n",
       "      <th>market_cap</th>\n",
       "      <th>circulating_supply</th>\n",
       "      <th>github_commits</th>\n",
       "      <th>github_stars</th>\n",
       "      <th>github_forks</th>\n",
       "      <th>github_contributors</th>\n",
       "      <th>github_followers</th>\n",
       "      <th>twitter_followers</th>\n",
       "      <th>reddit_members</th>\n",
       "      <th>amount_news_articles</th>\n",
       "    </tr>\n",
       "  </thead>\n",
       "  <tbody>\n",
       "    <tr>\n",
       "      <th>0</th>\n",
       "      <td>2022-11-01</td>\n",
       "      <td>binance-usd</td>\n",
       "      <td>1.000900</td>\n",
       "      <td>2.141400e+10</td>\n",
       "      <td>2.139500e+10</td>\n",
       "      <td>10.0</td>\n",
       "      <td>96.0</td>\n",
       "      <td>76.0</td>\n",
       "      <td>5.0</td>\n",
       "      <td>23.0</td>\n",
       "      <td>9710408.0</td>\n",
       "      <td>NaN</td>\n",
       "      <td>0</td>\n",
       "    </tr>\n",
       "    <tr>\n",
       "      <th>1</th>\n",
       "      <td>2022-11-01</td>\n",
       "      <td>bitcoin</td>\n",
       "      <td>20457.650000</td>\n",
       "      <td>3.926970e+11</td>\n",
       "      <td>1.919600e+07</td>\n",
       "      <td>35791.0</td>\n",
       "      <td>66721.0</td>\n",
       "      <td>33228.0</td>\n",
       "      <td>881.0</td>\n",
       "      <td>3925.0</td>\n",
       "      <td>NaN</td>\n",
       "      <td>4668711.0</td>\n",
       "      <td>22</td>\n",
       "    </tr>\n",
       "    <tr>\n",
       "      <th>2</th>\n",
       "      <td>2022-11-01</td>\n",
       "      <td>cardano</td>\n",
       "      <td>0.403617</td>\n",
       "      <td>1.385700e+10</td>\n",
       "      <td>3.433100e+10</td>\n",
       "      <td>NaN</td>\n",
       "      <td>NaN</td>\n",
       "      <td>NaN</td>\n",
       "      <td>NaN</td>\n",
       "      <td>NaN</td>\n",
       "      <td>1342071.0</td>\n",
       "      <td>697086.0</td>\n",
       "      <td>0</td>\n",
       "    </tr>\n",
       "    <tr>\n",
       "      <th>3</th>\n",
       "      <td>2022-11-01</td>\n",
       "      <td>dogecoin</td>\n",
       "      <td>0.139730</td>\n",
       "      <td>1.853800e+10</td>\n",
       "      <td>1.326710e+11</td>\n",
       "      <td>14211.0</td>\n",
       "      <td>14188.0</td>\n",
       "      <td>2624.0</td>\n",
       "      <td>272.0</td>\n",
       "      <td>851.0</td>\n",
       "      <td>3512766.0</td>\n",
       "      <td>2353147.0</td>\n",
       "      <td>12</td>\n",
       "    </tr>\n",
       "    <tr>\n",
       "      <th>4</th>\n",
       "      <td>2022-11-01</td>\n",
       "      <td>ethereum</td>\n",
       "      <td>1582.170000</td>\n",
       "      <td>1.936160e+11</td>\n",
       "      <td>1.223740e+08</td>\n",
       "      <td>13753.0</td>\n",
       "      <td>39990.0</td>\n",
       "      <td>15298.0</td>\n",
       "      <td>838.0</td>\n",
       "      <td>2186.0</td>\n",
       "      <td>2996092.0</td>\n",
       "      <td>1528532.0</td>\n",
       "      <td>6</td>\n",
       "    </tr>\n",
       "    <tr>\n",
       "      <th>...</th>\n",
       "      <td>...</td>\n",
       "      <td>...</td>\n",
       "      <td>...</td>\n",
       "      <td>...</td>\n",
       "      <td>...</td>\n",
       "      <td>...</td>\n",
       "      <td>...</td>\n",
       "      <td>...</td>\n",
       "      <td>...</td>\n",
       "      <td>...</td>\n",
       "      <td>...</td>\n",
       "      <td>...</td>\n",
       "      <td>...</td>\n",
       "    </tr>\n",
       "    <tr>\n",
       "      <th>72</th>\n",
       "      <td>2022-11-07</td>\n",
       "      <td>solana</td>\n",
       "      <td>31.440000</td>\n",
       "      <td>1.131000e+10</td>\n",
       "      <td>3.597280e+08</td>\n",
       "      <td>NaN</td>\n",
       "      <td>NaN</td>\n",
       "      <td>NaN</td>\n",
       "      <td>NaN</td>\n",
       "      <td>NaN</td>\n",
       "      <td>2089353.0</td>\n",
       "      <td>154809.0</td>\n",
       "      <td>3</td>\n",
       "    </tr>\n",
       "    <tr>\n",
       "      <th>73</th>\n",
       "      <td>2022-11-07</td>\n",
       "      <td>tether</td>\n",
       "      <td>1.000100</td>\n",
       "      <td>6.936600e+10</td>\n",
       "      <td>6.936100e+10</td>\n",
       "      <td>NaN</td>\n",
       "      <td>NaN</td>\n",
       "      <td>NaN</td>\n",
       "      <td>NaN</td>\n",
       "      <td>NaN</td>\n",
       "      <td>304370.0</td>\n",
       "      <td>NaN</td>\n",
       "      <td>1</td>\n",
       "    </tr>\n",
       "    <tr>\n",
       "      <th>74</th>\n",
       "      <td>2022-11-07</td>\n",
       "      <td>tron</td>\n",
       "      <td>0.062461</td>\n",
       "      <td>5.761000e+09</td>\n",
       "      <td>9.223300e+10</td>\n",
       "      <td>17090.0</td>\n",
       "      <td>3164.0</td>\n",
       "      <td>1154.0</td>\n",
       "      <td>180.0</td>\n",
       "      <td>350.0</td>\n",
       "      <td>3387205.0</td>\n",
       "      <td>125208.0</td>\n",
       "      <td>0</td>\n",
       "    </tr>\n",
       "    <tr>\n",
       "      <th>75</th>\n",
       "      <td>2022-11-07</td>\n",
       "      <td>usd-coin</td>\n",
       "      <td>1.000400</td>\n",
       "      <td>4.273700e+10</td>\n",
       "      <td>4.272100e+10</td>\n",
       "      <td>836.0</td>\n",
       "      <td>364.0</td>\n",
       "      <td>217.0</td>\n",
       "      <td>17.0</td>\n",
       "      <td>24.0</td>\n",
       "      <td>NaN</td>\n",
       "      <td>NaN</td>\n",
       "      <td>1</td>\n",
       "    </tr>\n",
       "    <tr>\n",
       "      <th>76</th>\n",
       "      <td>2022-11-07</td>\n",
       "      <td>xrp</td>\n",
       "      <td>0.471913</td>\n",
       "      <td>2.369700e+10</td>\n",
       "      <td>5.021500e+10</td>\n",
       "      <td>12723.0</td>\n",
       "      <td>4238.0</td>\n",
       "      <td>1406.0</td>\n",
       "      <td>98.0</td>\n",
       "      <td>507.0</td>\n",
       "      <td>2589419.0</td>\n",
       "      <td>354258.0</td>\n",
       "      <td>0</td>\n",
       "    </tr>\n",
       "  </tbody>\n",
       "</table>\n",
       "<p>77 rows × 13 columns</p>\n",
       "</div>"
      ],
      "text/plain": [
       "         date         name         price    market_cap  circulating_supply  \\\n",
       "0  2022-11-01  binance-usd      1.000900  2.141400e+10        2.139500e+10   \n",
       "1  2022-11-01      bitcoin  20457.650000  3.926970e+11        1.919600e+07   \n",
       "2  2022-11-01      cardano      0.403617  1.385700e+10        3.433100e+10   \n",
       "3  2022-11-01     dogecoin      0.139730  1.853800e+10        1.326710e+11   \n",
       "4  2022-11-01     ethereum   1582.170000  1.936160e+11        1.223740e+08   \n",
       "..        ...          ...           ...           ...                 ...   \n",
       "72 2022-11-07       solana     31.440000  1.131000e+10        3.597280e+08   \n",
       "73 2022-11-07       tether      1.000100  6.936600e+10        6.936100e+10   \n",
       "74 2022-11-07         tron      0.062461  5.761000e+09        9.223300e+10   \n",
       "75 2022-11-07     usd-coin      1.000400  4.273700e+10        4.272100e+10   \n",
       "76 2022-11-07          xrp      0.471913  2.369700e+10        5.021500e+10   \n",
       "\n",
       "    github_commits  github_stars  github_forks  github_contributors  \\\n",
       "0             10.0          96.0          76.0                  5.0   \n",
       "1          35791.0       66721.0       33228.0                881.0   \n",
       "2              NaN           NaN           NaN                  NaN   \n",
       "3          14211.0       14188.0        2624.0                272.0   \n",
       "4          13753.0       39990.0       15298.0                838.0   \n",
       "..             ...           ...           ...                  ...   \n",
       "72             NaN           NaN           NaN                  NaN   \n",
       "73             NaN           NaN           NaN                  NaN   \n",
       "74         17090.0        3164.0        1154.0                180.0   \n",
       "75           836.0         364.0         217.0                 17.0   \n",
       "76         12723.0        4238.0        1406.0                 98.0   \n",
       "\n",
       "    github_followers  twitter_followers  reddit_members  amount_news_articles  \n",
       "0               23.0          9710408.0             NaN                     0  \n",
       "1             3925.0                NaN       4668711.0                    22  \n",
       "2                NaN          1342071.0        697086.0                     0  \n",
       "3              851.0          3512766.0       2353147.0                    12  \n",
       "4             2186.0          2996092.0       1528532.0                     6  \n",
       "..               ...                ...             ...                   ...  \n",
       "72               NaN          2089353.0        154809.0                     3  \n",
       "73               NaN           304370.0             NaN                     1  \n",
       "74             350.0          3387205.0        125208.0                     0  \n",
       "75              24.0                NaN             NaN                     1  \n",
       "76             507.0          2589419.0        354258.0                     0  \n",
       "\n",
       "[77 rows x 13 columns]"
      ]
     },
     "execution_count": 43,
     "metadata": {},
     "output_type": "execute_result"
    }
   ],
   "source": [
    "df = df.sort_values(by=[\"date\", \"name\"]).reset_index(\n",
    "    drop=True\n",
    ")  # Sorting final dataframe\n",
    "df\n"
   ]
  },
  {
   "cell_type": "code",
   "execution_count": 44,
   "metadata": {},
   "outputs": [],
   "source": [
    "df.set_index(\"date\", inplace=True)\n"
   ]
  },
  {
   "cell_type": "markdown",
   "metadata": {},
   "source": [
    "### Save cleaned data in csv only for EDA use\n"
   ]
  },
  {
   "cell_type": "code",
   "execution_count": 45,
   "metadata": {},
   "outputs": [],
   "source": [
    "df.to_csv(\"streamlit_app/cleaned_data.csv\")\n"
   ]
  },
  {
   "cell_type": "markdown",
   "metadata": {},
   "source": [
    "## EDA\n",
    "For the EDA please visit this Dashboard 👉 [Streamlit]"
   ]
  },
  {
   "cell_type": "code",
   "execution_count": 46,
   "metadata": {},
   "outputs": [
    {
     "ename": "KeyError",
     "evalue": "\"None of ['date'] are in the columns\"",
     "output_type": "error",
     "traceback": [
      "\u001b[0;31m---------------------------------------------------------------------------\u001b[0m",
      "\u001b[0;31mKeyError\u001b[0m                                  Traceback (most recent call last)",
      "Cell \u001b[0;32mIn [46], line 2\u001b[0m\n\u001b[1;32m      1\u001b[0m bitcoin_df \u001b[39m=\u001b[39m df[df\u001b[39m.\u001b[39mname\u001b[39m.\u001b[39misin([\u001b[39m\"\u001b[39m\u001b[39methereum\u001b[39m\u001b[39m\"\u001b[39m]) \u001b[39m==\u001b[39m \u001b[39mTrue\u001b[39;00m]\n\u001b[0;32m----> 2\u001b[0m bitcoin_df\u001b[39m.\u001b[39;49mset_index(\u001b[39m\"\u001b[39;49m\u001b[39mdate\u001b[39;49m\u001b[39m\"\u001b[39;49m, inplace\u001b[39m=\u001b[39;49m\u001b[39mTrue\u001b[39;49;00m)\n\u001b[1;32m      3\u001b[0m display(bitcoin_df)\n\u001b[1;32m      4\u001b[0m bitcoin_df\u001b[39m.\u001b[39mtwitter_followers\u001b[39m.\u001b[39mplot(figsize\u001b[39m=\u001b[39m(\u001b[39m18\u001b[39m, \u001b[39m3\u001b[39m))\n",
      "File \u001b[0;32m~/Documents/GitHub/crypto_scraping_project/venv/lib/python3.8/site-packages/pandas/util/_decorators.py:317\u001b[0m, in \u001b[0;36mdeprecate_nonkeyword_arguments.<locals>.decorate.<locals>.wrapper\u001b[0;34m(*args, **kwargs)\u001b[0m\n\u001b[1;32m    311\u001b[0m \u001b[39mif\u001b[39;00m \u001b[39mlen\u001b[39m(args) \u001b[39m>\u001b[39m num_allow_args:\n\u001b[1;32m    312\u001b[0m     warnings\u001b[39m.\u001b[39mwarn(\n\u001b[1;32m    313\u001b[0m         msg\u001b[39m.\u001b[39mformat(arguments\u001b[39m=\u001b[39marguments),\n\u001b[1;32m    314\u001b[0m         \u001b[39mFutureWarning\u001b[39;00m,\n\u001b[1;32m    315\u001b[0m         stacklevel\u001b[39m=\u001b[39mfind_stack_level(inspect\u001b[39m.\u001b[39mcurrentframe()),\n\u001b[1;32m    316\u001b[0m     )\n\u001b[0;32m--> 317\u001b[0m \u001b[39mreturn\u001b[39;00m func(\u001b[39m*\u001b[39;49margs, \u001b[39m*\u001b[39;49m\u001b[39m*\u001b[39;49mkwargs)\n",
      "File \u001b[0;32m~/Documents/GitHub/crypto_scraping_project/venv/lib/python3.8/site-packages/pandas/core/frame.py:6004\u001b[0m, in \u001b[0;36mDataFrame.set_index\u001b[0;34m(self, keys, drop, append, inplace, verify_integrity)\u001b[0m\n\u001b[1;32m   6001\u001b[0m                 missing\u001b[39m.\u001b[39mappend(col)\n\u001b[1;32m   6003\u001b[0m \u001b[39mif\u001b[39;00m missing:\n\u001b[0;32m-> 6004\u001b[0m     \u001b[39mraise\u001b[39;00m \u001b[39mKeyError\u001b[39;00m(\u001b[39mf\u001b[39m\u001b[39m\"\u001b[39m\u001b[39mNone of \u001b[39m\u001b[39m{\u001b[39;00mmissing\u001b[39m}\u001b[39;00m\u001b[39m are in the columns\u001b[39m\u001b[39m\"\u001b[39m)\n\u001b[1;32m   6006\u001b[0m \u001b[39mif\u001b[39;00m inplace:\n\u001b[1;32m   6007\u001b[0m     frame \u001b[39m=\u001b[39m \u001b[39mself\u001b[39m\n",
      "\u001b[0;31mKeyError\u001b[0m: \"None of ['date'] are in the columns\""
     ]
    }
   ],
   "source": [
    "bitcoin_df = df[df.name.isin([\"ethereum\"]) == True]\n",
    "bitcoin_df.set_index(\"date\", inplace=True)\n",
    "display(bitcoin_df)\n",
    "bitcoin_df.twitter_followers.plot(figsize=(18, 3))\n",
    "plt.show()\n"
   ]
  },
  {
   "cell_type": "code",
   "execution_count": 47,
   "metadata": {},
   "outputs": [
    {
     "name": "stdout",
     "output_type": "stream",
     "text": [
      "<class 'pandas.core.frame.DataFrame'>\n",
      "DatetimeIndex: 77 entries, 2022-11-01 to 2022-11-07\n",
      "Data columns (total 12 columns):\n",
      " #   Column                Non-Null Count  Dtype  \n",
      "---  ------                --------------  -----  \n",
      " 0   name                  77 non-null     object \n",
      " 1   price                 77 non-null     float64\n",
      " 2   market_cap            77 non-null     float64\n",
      " 3   circulating_supply    77 non-null     float64\n",
      " 4   github_commits        56 non-null     float64\n",
      " 5   github_stars          56 non-null     float64\n",
      " 6   github_forks          56 non-null     float64\n",
      " 7   github_contributors   56 non-null     float64\n",
      " 8   github_followers      56 non-null     float64\n",
      " 9   twitter_followers     63 non-null     float64\n",
      " 10  reddit_members        56 non-null     float64\n",
      " 11  amount_news_articles  77 non-null     int64  \n",
      "dtypes: float64(10), int64(1), object(1)\n",
      "memory usage: 7.8+ KB\n"
     ]
    }
   ],
   "source": [
    "df.info()"
   ]
  },
  {
   "cell_type": "code",
   "execution_count": null,
   "metadata": {},
   "outputs": [],
   "source": []
  }
 ],
 "metadata": {
  "kernelspec": {
   "display_name": "Python 3.8.13 ('venv': venv)",
   "language": "python",
   "name": "python3"
  },
  "language_info": {
   "codemirror_mode": {
    "name": "ipython",
    "version": 3
   },
   "file_extension": ".py",
   "mimetype": "text/x-python",
   "name": "python",
   "nbconvert_exporter": "python",
   "pygments_lexer": "ipython3",
   "version": "3.8.13"
  },
  "orig_nbformat": 4,
  "vscode": {
   "interpreter": {
    "hash": "a3d0a0195eec492dce79e257cf7676dfb062318eea67dd624c48d2f80eb57d6d"
   }
  }
 },
 "nbformat": 4,
 "nbformat_minor": 2
}
