{
 "cells": [
  {
   "cell_type": "markdown",
   "metadata": {},
   "source": [
    "# Data Wrangling & Exploratory Data Analysis"
   ]
  },
  {
   "cell_type": "markdown",
   "metadata": {},
   "source": [
    "## Cleaning of scraped data\n",
    "\n",
    "This section focuses on cleaning of the raw data which was scraped of the following websites:\n",
    "- [Yahoo Finance](yahoo.finance/cryptocurrencies)\n",
    "- [Coin Market](Capcoinmarketcap.com)\n",
    "- [Coindesk](coindesk.com)\n",
    "\n",
    "Also check following file 👉 [Main.py](https://github.com/mr-emreerturk/crypto_scraping_project/blob/main/main.py) and the [README](https://github.com/mr-emreerturk/crypto_scraping_project/blob/main/README.md)for more context."
   ]
  },
  {
   "cell_type": "markdown",
   "metadata": {},
   "source": [
    "### Imports & Constants\n"
   ]
  },
  {
   "cell_type": "code",
   "execution_count": 26,
   "metadata": {},
   "outputs": [],
   "source": [
    "# Import all necesssary modules\n",
    "import pandas as pd\n",
    "import numpy as np\n",
    "import h5py\n",
    "\n",
    "# Define file path of H5 filea s constant\n",
    "PATH = \"/Users/emre/Documents/GitHub/crypto_scraping_project/data.h5\""
   ]
  },
  {
   "cell_type": "markdown",
   "metadata": {},
   "source": [
    "### Loading files into dataframes\n"
   ]
  },
  {
   "cell_type": "code",
   "execution_count": 27,
   "metadata": {},
   "outputs": [],
   "source": [
    "# https://stackoverflow.com/questions/40472912/hdf5-file-to-pandas-dataframe\n",
    "# Read all datasets into dataframes by transforming the h5 file into an array first\n",
    "df_prices = pd.DataFrame(np.array(h5py.File(PATH)[\"yahoo_prices\"]))\n",
    "df_news = pd.DataFrame(np.array(h5py.File(PATH)[\"news_data\"]))\n",
    "df_dev = pd.DataFrame(np.array(h5py.File(PATH)[\"dev_data\"]))"
   ]
  },
  {
   "cell_type": "markdown",
   "metadata": {},
   "source": [
    "### Convert all entries to strings"
   ]
  },
  {
   "cell_type": "code",
   "execution_count": 28,
   "metadata": {},
   "outputs": [],
   "source": [
    "df_prices = df_prices.astype(\"str\")\n",
    "df_dev = df_dev.astype(\"str\")\n",
    "df_news = df_news.astype(\"str\")"
   ]
  },
  {
   "cell_type": "markdown",
   "metadata": {},
   "source": [
    "### Replace import substrings \"b\" & \"''\""
   ]
  },
  {
   "cell_type": "code",
   "execution_count": 29,
   "metadata": {},
   "outputs": [],
   "source": [
    "# Elimate imported string b & ''\n",
    "df_list_mask = [df_prices, df_dev, df_news]  # list of all dataframes\n",
    "for x in df_list_mask:  # loop through all dataframes\n",
    "    for n in range(0, len(x.columns)):  # loop through columns of each df\n",
    "        for m in range(0, len(x)):  # loop through length of rows\n",
    "            x[n][m] = (\n",
    "                x[n][m].replace(\"b'\", \"\").replace(\"'\", \"\")\n",
    "            )  # Replace substring \"b & ''\""
   ]
  },
  {
   "cell_type": "markdown",
   "metadata": {},
   "source": [
    "### Change column names"
   ]
  },
  {
   "cell_type": "code",
   "execution_count": 30,
   "metadata": {},
   "outputs": [],
   "source": [
    "# Change column names\n",
    "df_prices = df_prices.rename(\n",
    "    {\n",
    "        0: \"date\",\n",
    "        1: \"name\",\n",
    "        2: \"price\",\n",
    "        3: \"market_cap\",\n",
    "        4: \"circulating_supply\",\n",
    "    },\n",
    "    axis=1,\n",
    ")\n",
    "\n",
    "df_dev = df_dev.rename(\n",
    "    {\n",
    "        0: \"date\",\n",
    "        1: \"name\",\n",
    "        2: \"github_commits\",\n",
    "        3: \"github_stars\",\n",
    "        4: \"github_forks\",\n",
    "        5: \"github_contributors\",\n",
    "        6: \"github_followers\",\n",
    "        7: \"twitter_followers\",\n",
    "        8: \"reddit_members\",\n",
    "    },\n",
    "    axis=1,\n",
    ")\n",
    "\n",
    "\n",
    "df_news = df_news.rename(\n",
    "    {\n",
    "        0: \"date\",\n",
    "        1: \"name\",\n",
    "        2: \"amount_news_articles\",\n",
    "    },\n",
    "    axis=1,\n",
    ")"
   ]
  },
  {
   "cell_type": "markdown",
   "metadata": {},
   "source": [
    "### Standartize crypto names in `df_prices`"
   ]
  },
  {
   "cell_type": "markdown",
   "metadata": {},
   "source": [
    "#### Filter to crypto used in other dataframes"
   ]
  },
  {
   "cell_type": "code",
   "execution_count": 31,
   "metadata": {},
   "outputs": [],
   "source": [
    "# Drop last 3 letters \"USD\", strip all whitespace from head & tail of string, and add hypen between words when whitespace\n",
    "df_prices.name = df_prices.name.str[:-3].str.lower().str.strip().str.replace(\" \", \"-\")\n",
    "\n",
    "top_crypto = [ # Filter for crypto used in other datasets\n",
    "        \"bitcoin\",\n",
    "        \"ethereum\",\n",
    "        \"tether\",\n",
    "        \"usd-coin\",\n",
    "        \"bnb\",\n",
    "        \"xrp\",\n",
    "        \"binance-usd\",\n",
    "        \"cardano\",\n",
    "        \"solana\",\n",
    "        \"dogecoin\",\n",
    "        \"polygon\",\n",
    "        \"tron\",\n",
    "    ]\n",
    "\n",
    "df_prices = df_prices[df_prices.name.isin(top_crypto)]"
   ]
  },
  {
   "cell_type": "markdown",
   "metadata": {},
   "source": [
    "### Correction of dtypes"
   ]
  },
  {
   "cell_type": "code",
   "execution_count": 32,
   "metadata": {},
   "outputs": [
    {
     "name": "stderr",
     "output_type": "stream",
     "text": [
      "/var/folders/9c/dzx7wkbs2sn6_g919b67k6yc0000gn/T/ipykernel_41975/2069303491.py:26: FutureWarning: In a future version, `df.iloc[:, i] = newvals` will attempt to set the values inplace instead of always setting a new array. To retain the old behavior, use either `df[df.columns[i]] = newvals` or, if columns are non-unique, `df.isetitem(i, newvals)`\n",
      "  df_dev.loc[:,\"github_commits\":\"reddit_members\"] = df_dev.loc[:,\"github_commits\":\"reddit_members\"].astype(float).round(0)\n"
     ]
    }
   ],
   "source": [
    "# Change dtypes of columns\n",
    "from numpy import NaN #import numpy's NaN\n",
    "\n",
    "# Change date dtype in df_prices\n",
    "df_prices.date = pd.to_datetime(df_prices.date)\n",
    "\n",
    "df_prices.price = df_prices.price.apply(\n",
    "    lambda x: float(x.replace(\",\", \"\"))\n",
    ")  # Remove comma from number and covnert to float\n",
    "\n",
    "df_prices.market_cap = df_prices.market_cap.apply(\n",
    "    lambda x: float(x.strip(\"B\")) * 1_000_000_000\n",
    ")  # Replace billion with real number in market_cap column\n",
    "\n",
    "df_prices.circulating_supply = df_prices.circulating_supply.apply(\n",
    "    lambda x: float(x.strip(\"B\")) * 1_000_000_000\n",
    "    if (x[-1] == \"B\")\n",
    "    else float(x.strip(\"M\")) * 1_000_000\n",
    ") # Replace billion and million with real number in circulating supply column\n",
    "\n",
    "# Change date in df_dev\n",
    "df_dev.date = pd.to_datetime(df_dev.date)\n",
    "# Replace '--' with NaN and convert to float\n",
    "for x in df_dev.columns:\n",
    "    df_dev[x] = df_dev[x].replace(\"--\", np.nan, regex=True)\n",
    "df_dev.loc[:,\"github_commits\":\"reddit_members\"] = df_dev.loc[:,\"github_commits\":\"reddit_members\"].astype(float).round(0)\n",
    "\n",
    "# Change date in df_news\n",
    "df_news.date = pd.to_datetime(df_news.date)\n",
    "# Change dtype of amount_news_articles to int\n",
    "df_news.amount_news_articles = df_news.amount_news_articles.astype(int)"
   ]
  },
  {
   "cell_type": "markdown",
   "metadata": {},
   "source": [
    "### Concat all dataframes in one big dataframe"
   ]
  },
  {
   "cell_type": "code",
   "execution_count": 33,
   "metadata": {},
   "outputs": [],
   "source": [
    "for x in [df_prices,df_dev,df_news]:\n",
    "    x.sort_values(by=\"name\",inplace=True) # Sort all dataframes\n",
    "\n",
    "# Merge dataframes on an inner join on \"date\" and \"name\"\n",
    "df_mask = df_prices.merge(df_dev, how=\"inner\", left_on=[\"date\", \"name\"], right_on=[\"date\", \"name\"])\n",
    "df = df_mask.merge(df_news, how=\"inner\", left_on=[\"date\", \"name\"], right_on=[\"date\", \"name\"])"
   ]
  },
  {
   "cell_type": "code",
   "execution_count": 34,
   "metadata": {},
   "outputs": [
    {
     "data": {
      "text/html": [
       "<div>\n",
       "<style scoped>\n",
       "    .dataframe tbody tr th:only-of-type {\n",
       "        vertical-align: middle;\n",
       "    }\n",
       "\n",
       "    .dataframe tbody tr th {\n",
       "        vertical-align: top;\n",
       "    }\n",
       "\n",
       "    .dataframe thead th {\n",
       "        text-align: right;\n",
       "    }\n",
       "</style>\n",
       "<table border=\"1\" class=\"dataframe\">\n",
       "  <thead>\n",
       "    <tr style=\"text-align: right;\">\n",
       "      <th></th>\n",
       "      <th>date</th>\n",
       "      <th>name</th>\n",
       "      <th>price</th>\n",
       "      <th>market_cap</th>\n",
       "      <th>circulating_supply</th>\n",
       "      <th>github_commits</th>\n",
       "      <th>github_stars</th>\n",
       "      <th>github_forks</th>\n",
       "      <th>github_contributors</th>\n",
       "      <th>github_followers</th>\n",
       "      <th>twitter_followers</th>\n",
       "      <th>reddit_members</th>\n",
       "      <th>amount_news_articles</th>\n",
       "    </tr>\n",
       "  </thead>\n",
       "  <tbody>\n",
       "    <tr>\n",
       "      <th>0</th>\n",
       "      <td>2022-11-01</td>\n",
       "      <td>binance-usd</td>\n",
       "      <td>1.000900</td>\n",
       "      <td>2.141400e+10</td>\n",
       "      <td>2.139500e+10</td>\n",
       "      <td>10.0</td>\n",
       "      <td>96.0</td>\n",
       "      <td>76.0</td>\n",
       "      <td>5.0</td>\n",
       "      <td>23.0</td>\n",
       "      <td>9710408.0</td>\n",
       "      <td>NaN</td>\n",
       "      <td>0</td>\n",
       "    </tr>\n",
       "    <tr>\n",
       "      <th>1</th>\n",
       "      <td>2022-11-01</td>\n",
       "      <td>bitcoin</td>\n",
       "      <td>20457.650000</td>\n",
       "      <td>3.926970e+11</td>\n",
       "      <td>1.919600e+07</td>\n",
       "      <td>35791.0</td>\n",
       "      <td>66721.0</td>\n",
       "      <td>33228.0</td>\n",
       "      <td>881.0</td>\n",
       "      <td>3925.0</td>\n",
       "      <td>NaN</td>\n",
       "      <td>4668711.0</td>\n",
       "      <td>22</td>\n",
       "    </tr>\n",
       "    <tr>\n",
       "      <th>2</th>\n",
       "      <td>2022-11-01</td>\n",
       "      <td>cardano</td>\n",
       "      <td>0.403617</td>\n",
       "      <td>1.385700e+10</td>\n",
       "      <td>3.433100e+10</td>\n",
       "      <td>NaN</td>\n",
       "      <td>NaN</td>\n",
       "      <td>NaN</td>\n",
       "      <td>NaN</td>\n",
       "      <td>NaN</td>\n",
       "      <td>1342071.0</td>\n",
       "      <td>697086.0</td>\n",
       "      <td>0</td>\n",
       "    </tr>\n",
       "    <tr>\n",
       "      <th>3</th>\n",
       "      <td>2022-11-01</td>\n",
       "      <td>dogecoin</td>\n",
       "      <td>0.139730</td>\n",
       "      <td>1.853800e+10</td>\n",
       "      <td>1.326710e+11</td>\n",
       "      <td>14211.0</td>\n",
       "      <td>14188.0</td>\n",
       "      <td>2624.0</td>\n",
       "      <td>272.0</td>\n",
       "      <td>851.0</td>\n",
       "      <td>3512766.0</td>\n",
       "      <td>2353147.0</td>\n",
       "      <td>12</td>\n",
       "    </tr>\n",
       "    <tr>\n",
       "      <th>4</th>\n",
       "      <td>2022-11-01</td>\n",
       "      <td>ethereum</td>\n",
       "      <td>1582.170000</td>\n",
       "      <td>1.936160e+11</td>\n",
       "      <td>1.223740e+08</td>\n",
       "      <td>13753.0</td>\n",
       "      <td>39990.0</td>\n",
       "      <td>15298.0</td>\n",
       "      <td>838.0</td>\n",
       "      <td>2186.0</td>\n",
       "      <td>2996092.0</td>\n",
       "      <td>1528532.0</td>\n",
       "      <td>6</td>\n",
       "    </tr>\n",
       "    <tr>\n",
       "      <th>5</th>\n",
       "      <td>2022-11-01</td>\n",
       "      <td>polygon</td>\n",
       "      <td>0.881694</td>\n",
       "      <td>7.701000e+09</td>\n",
       "      <td>8.734000e+09</td>\n",
       "      <td>1859.0</td>\n",
       "      <td>614.0</td>\n",
       "      <td>315.0</td>\n",
       "      <td>16.0</td>\n",
       "      <td>67.0</td>\n",
       "      <td>1709283.0</td>\n",
       "      <td>52203.0</td>\n",
       "      <td>0</td>\n",
       "    </tr>\n",
       "    <tr>\n",
       "      <th>6</th>\n",
       "      <td>2022-11-01</td>\n",
       "      <td>solana</td>\n",
       "      <td>32.360000</td>\n",
       "      <td>1.162900e+10</td>\n",
       "      <td>3.593320e+08</td>\n",
       "      <td>NaN</td>\n",
       "      <td>NaN</td>\n",
       "      <td>NaN</td>\n",
       "      <td>NaN</td>\n",
       "      <td>NaN</td>\n",
       "      <td>2070477.0</td>\n",
       "      <td>154610.0</td>\n",
       "      <td>2</td>\n",
       "    </tr>\n",
       "    <tr>\n",
       "      <th>7</th>\n",
       "      <td>2022-11-01</td>\n",
       "      <td>tether</td>\n",
       "      <td>0.999962</td>\n",
       "      <td>6.941700e+10</td>\n",
       "      <td>6.942000e+10</td>\n",
       "      <td>NaN</td>\n",
       "      <td>NaN</td>\n",
       "      <td>NaN</td>\n",
       "      <td>NaN</td>\n",
       "      <td>NaN</td>\n",
       "      <td>303733.0</td>\n",
       "      <td>NaN</td>\n",
       "      <td>0</td>\n",
       "    </tr>\n",
       "    <tr>\n",
       "      <th>8</th>\n",
       "      <td>2022-11-01</td>\n",
       "      <td>tron</td>\n",
       "      <td>0.062854</td>\n",
       "      <td>5.799000e+09</td>\n",
       "      <td>9.225400e+10</td>\n",
       "      <td>17090.0</td>\n",
       "      <td>3158.0</td>\n",
       "      <td>1154.0</td>\n",
       "      <td>180.0</td>\n",
       "      <td>350.0</td>\n",
       "      <td>3383103.0</td>\n",
       "      <td>125195.0</td>\n",
       "      <td>0</td>\n",
       "    </tr>\n",
       "    <tr>\n",
       "      <th>9</th>\n",
       "      <td>2022-11-01</td>\n",
       "      <td>usd-coin</td>\n",
       "      <td>0.999966</td>\n",
       "      <td>4.339800e+10</td>\n",
       "      <td>4.340000e+10</td>\n",
       "      <td>836.0</td>\n",
       "      <td>360.0</td>\n",
       "      <td>217.0</td>\n",
       "      <td>17.0</td>\n",
       "      <td>25.0</td>\n",
       "      <td>NaN</td>\n",
       "      <td>NaN</td>\n",
       "      <td>0</td>\n",
       "    </tr>\n",
       "    <tr>\n",
       "      <th>10</th>\n",
       "      <td>2022-11-01</td>\n",
       "      <td>xrp</td>\n",
       "      <td>0.462727</td>\n",
       "      <td>2.317600e+10</td>\n",
       "      <td>5.008500e+10</td>\n",
       "      <td>12723.0</td>\n",
       "      <td>4236.0</td>\n",
       "      <td>1406.0</td>\n",
       "      <td>98.0</td>\n",
       "      <td>507.0</td>\n",
       "      <td>2586015.0</td>\n",
       "      <td>354064.0</td>\n",
       "      <td>2</td>\n",
       "    </tr>\n",
       "  </tbody>\n",
       "</table>\n",
       "</div>"
      ],
      "text/plain": [
       "         date         name         price    market_cap  circulating_supply  \\\n",
       "0  2022-11-01  binance-usd      1.000900  2.141400e+10        2.139500e+10   \n",
       "1  2022-11-01      bitcoin  20457.650000  3.926970e+11        1.919600e+07   \n",
       "2  2022-11-01      cardano      0.403617  1.385700e+10        3.433100e+10   \n",
       "3  2022-11-01     dogecoin      0.139730  1.853800e+10        1.326710e+11   \n",
       "4  2022-11-01     ethereum   1582.170000  1.936160e+11        1.223740e+08   \n",
       "5  2022-11-01      polygon      0.881694  7.701000e+09        8.734000e+09   \n",
       "6  2022-11-01       solana     32.360000  1.162900e+10        3.593320e+08   \n",
       "7  2022-11-01       tether      0.999962  6.941700e+10        6.942000e+10   \n",
       "8  2022-11-01         tron      0.062854  5.799000e+09        9.225400e+10   \n",
       "9  2022-11-01     usd-coin      0.999966  4.339800e+10        4.340000e+10   \n",
       "10 2022-11-01          xrp      0.462727  2.317600e+10        5.008500e+10   \n",
       "\n",
       "    github_commits  github_stars  github_forks  github_contributors  \\\n",
       "0             10.0          96.0          76.0                  5.0   \n",
       "1          35791.0       66721.0       33228.0                881.0   \n",
       "2              NaN           NaN           NaN                  NaN   \n",
       "3          14211.0       14188.0        2624.0                272.0   \n",
       "4          13753.0       39990.0       15298.0                838.0   \n",
       "5           1859.0         614.0         315.0                 16.0   \n",
       "6              NaN           NaN           NaN                  NaN   \n",
       "7              NaN           NaN           NaN                  NaN   \n",
       "8          17090.0        3158.0        1154.0                180.0   \n",
       "9            836.0         360.0         217.0                 17.0   \n",
       "10         12723.0        4236.0        1406.0                 98.0   \n",
       "\n",
       "    github_followers  twitter_followers  reddit_members  amount_news_articles  \n",
       "0               23.0          9710408.0             NaN                     0  \n",
       "1             3925.0                NaN       4668711.0                    22  \n",
       "2                NaN          1342071.0        697086.0                     0  \n",
       "3              851.0          3512766.0       2353147.0                    12  \n",
       "4             2186.0          2996092.0       1528532.0                     6  \n",
       "5               67.0          1709283.0         52203.0                     0  \n",
       "6                NaN          2070477.0        154610.0                     2  \n",
       "7                NaN           303733.0             NaN                     0  \n",
       "8              350.0          3383103.0        125195.0                     0  \n",
       "9               25.0                NaN             NaN                     0  \n",
       "10             507.0          2586015.0        354064.0                     2  "
      ]
     },
     "execution_count": 34,
     "metadata": {},
     "output_type": "execute_result"
    }
   ],
   "source": [
    "df"
   ]
  },
  {
   "cell_type": "markdown",
   "metadata": {},
   "source": [
    "## EDA"
   ]
  },
  {
   "cell_type": "markdown",
   "metadata": {},
   "source": []
  }
 ],
 "metadata": {
  "kernelspec": {
   "display_name": "Python 3.8.13 ('venv': venv)",
   "language": "python",
   "name": "python3"
  },
  "language_info": {
   "codemirror_mode": {
    "name": "ipython",
    "version": 3
   },
   "file_extension": ".py",
   "mimetype": "text/x-python",
   "name": "python",
   "nbconvert_exporter": "python",
   "pygments_lexer": "ipython3",
   "version": "3.8.13"
  },
  "orig_nbformat": 4,
  "vscode": {
   "interpreter": {
    "hash": "a3d0a0195eec492dce79e257cf7676dfb062318eea67dd624c48d2f80eb57d6d"
   }
  }
 },
 "nbformat": 4,
 "nbformat_minor": 2
}
