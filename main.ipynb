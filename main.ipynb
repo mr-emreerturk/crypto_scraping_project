{
 "cells": [
  {
   "cell_type": "code",
   "execution_count": 29,
   "metadata": {},
   "outputs": [],
   "source": [
    "#Selenium imports\n",
    "from selenium import webdriver\n",
    "from selenium.webdriver.chrome.service import Service\n",
    "from webdriver_manager.chrome import ChromeDriverManager\n",
    "from selenium.webdriver.common.keys import Keys\n",
    "from selenium.webdriver.common.by import By\n",
    "\n",
    "# Rest\n",
    "from bs4 import BeautifulSoup\n",
    "import time\n",
    "import pandas as pd"
   ]
  },
  {
   "cell_type": "code",
   "execution_count": 61,
   "metadata": {},
   "outputs": [],
   "source": [
    "# To be scraped URL\n",
    "url = 'https://finance.yahoo.com/cryptocurrencies/'\n",
    "\n",
    "# installing driver making sure that new driver is\n",
    "driver = webdriver.Chrome(service=Service(ChromeDriverManager().install()))\n",
    "driver.get(url)\n",
    "# driver.maximize_window()\n",
    "# Header flag\n",
    "\n",
    "cols_mask = driver.find_elements(By.XPATH,'//*[@id=\"scr-res-table\"]/div[1]/table/thead/tr/th')\n",
    "\n",
    "# cols = []\n",
    "# for i in cols_mask:\n",
    "#     print(i.text)\n",
    "#     cols.append(i.text)\n",
    "\n",
    "cols = [cols.append(i.text) for i in cols_mask]\n",
    "\n",
    "driver.quit()"
   ]
  },
  {
   "cell_type": "code",
   "execution_count": null,
   "metadata": {},
   "outputs": [],
   "source": []
  },
  {
   "cell_type": "code",
   "execution_count": 60,
   "metadata": {},
   "outputs": [
    {
     "data": {
      "text/plain": [
       "['Select AllSymbol',\n",
       " 'Name',\n",
       " 'Price (Intraday)',\n",
       " 'Change',\n",
       " '% Change',\n",
       " 'Market Cap',\n",
       " 'Volume in Currency (Since 0:00 UTC)',\n",
       " 'Volume in Currency (24Hr)',\n",
       " 'Total Volume All Currencies (24Hr)',\n",
       " 'Circulating Supply',\n",
       " '52 Week Range',\n",
       " 'Day Chart']"
      ]
     },
     "execution_count": 60,
     "metadata": {},
     "output_type": "execute_result"
    }
   ],
   "source": [
    "cols"
   ]
  },
  {
   "cell_type": "code",
   "execution_count": null,
   "metadata": {},
   "outputs": [],
   "source": []
  }
 ],
 "metadata": {
  "kernelspec": {
   "display_name": "Python 3.8.13 ('venv': venv)",
   "language": "python",
   "name": "python3"
  },
  "language_info": {
   "codemirror_mode": {
    "name": "ipython",
    "version": 3
   },
   "file_extension": ".py",
   "mimetype": "text/x-python",
   "name": "python",
   "nbconvert_exporter": "python",
   "pygments_lexer": "ipython3",
   "version": "3.8.13"
  },
  "orig_nbformat": 4,
  "vscode": {
   "interpreter": {
    "hash": "a3d0a0195eec492dce79e257cf7676dfb062318eea67dd624c48d2f80eb57d6d"
   }
  }
 },
 "nbformat": 4,
 "nbformat_minor": 2
}
