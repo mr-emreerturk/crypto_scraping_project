{
 "cells": [
  {
   "cell_type": "code",
   "execution_count": 28,
   "metadata": {},
   "outputs": [],
   "source": [
    "from selenium import webdriver\n",
    "from selenium.webdriver.chrome.service import Service\n",
    "from webdriver_manager.chrome import ChromeDriverManager\n",
    "from selenium.webdriver.common.keys import Keys\n",
    "import time"
   ]
  },
  {
   "cell_type": "code",
   "execution_count": 40,
   "metadata": {},
   "outputs": [
    {
     "ename": "InvalidArgumentException",
     "evalue": "Message: invalid argument: invalid locator\n  (Session info: chrome=105.0.5195.125)\nStacktrace:\n0   chromedriver                        0x000000010865c788 chromedriver + 4515720\n1   chromedriver                        0x00000001085e09d3 chromedriver + 4008403\n2   chromedriver                        0x000000010827312a chromedriver + 413994\n3   chromedriver                        0x00000001082aa17c chromedriver + 639356\n4   chromedriver                        0x00000001082aaa61 chromedriver + 641633\n5   chromedriver                        0x00000001082dcfa1 chromedriver + 847777\n6   chromedriver                        0x00000001082c77fd chromedriver + 759805\n7   chromedriver                        0x00000001082dabd9 chromedriver + 838617\n8   chromedriver                        0x00000001082c7603 chromedriver + 759299\n9   chromedriver                        0x000000010829d990 chromedriver + 588176\n10  chromedriver                        0x000000010829ea75 chromedriver + 592501\n11  chromedriver                        0x000000010862c6cd chromedriver + 4318925\n12  chromedriver                        0x0000000108630f35 chromedriver + 4337461\n13  chromedriver                        0x00000001086381ff chromedriver + 4366847\n14  chromedriver                        0x0000000108631c5a chromedriver + 4340826\n15  chromedriver                        0x0000000108607c2c chromedriver + 4168748\n16  chromedriver                        0x000000010864e4f8 chromedriver + 4457720\n17  chromedriver                        0x000000010864e693 chromedriver + 4458131\n18  chromedriver                        0x0000000108663a3e chromedriver + 4545086\n19  libsystem_pthread.dylib             0x00007ff81a22e4e1 _pthread_start + 125\n20  libsystem_pthread.dylib             0x00007ff81a229f6b thread_start + 15\n",
     "output_type": "error",
     "traceback": [
      "\u001b[0;31m---------------------------------------------------------------------------\u001b[0m",
      "\u001b[0;31mInvalidArgumentException\u001b[0m                  Traceback (most recent call last)",
      "Cell \u001b[0;32mIn [40], line 7\u001b[0m\n\u001b[1;32m      4\u001b[0m driver \u001b[38;5;241m=\u001b[39m webdriver\u001b[38;5;241m.\u001b[39mChrome(service\u001b[38;5;241m=\u001b[39mService(ChromeDriverManager()\u001b[38;5;241m.\u001b[39minstall()))\n\u001b[1;32m      5\u001b[0m driver\u001b[38;5;241m.\u001b[39mget(url)\n\u001b[0;32m----> 7\u001b[0m search \u001b[38;5;241m=\u001b[39m driver\u001b[38;5;241m.\u001b[39mfind_elements(\u001b[38;5;124m\"\u001b[39m\u001b[38;5;124mTAG_NAME\u001b[39m\u001b[38;5;124m\"\u001b[39m,\u001b[38;5;124m\"\u001b[39m\u001b[38;5;124mtable\u001b[39m\u001b[38;5;124m\"\u001b[39m)\n\u001b[1;32m      9\u001b[0m driver\u001b[38;5;241m.\u001b[39mquit()\n",
      "File \u001b[0;32m~/Documents/GitHub/crypto_scraping_project/venv/lib/python3.8/site-packages/selenium/webdriver/remote/webdriver.py:889\u001b[0m, in \u001b[0;36mWebDriver.find_elements\u001b[0;34m(self, by, value)\u001b[0m\n\u001b[1;32m    885\u001b[0m     value \u001b[39m=\u001b[39m \u001b[39m'\u001b[39m\u001b[39m[name=\u001b[39m\u001b[39m\"\u001b[39m\u001b[39m%s\u001b[39;00m\u001b[39m\"\u001b[39m\u001b[39m]\u001b[39m\u001b[39m'\u001b[39m \u001b[39m%\u001b[39m value\n\u001b[1;32m    887\u001b[0m \u001b[39m# Return empty list if driver returns null\u001b[39;00m\n\u001b[1;32m    888\u001b[0m \u001b[39m# See https://github.com/SeleniumHQ/selenium/issues/4555\u001b[39;00m\n\u001b[0;32m--> 889\u001b[0m \u001b[39mreturn\u001b[39;00m \u001b[39mself\u001b[39;49m\u001b[39m.\u001b[39;49mexecute(Command\u001b[39m.\u001b[39;49mFIND_ELEMENTS, {\n\u001b[1;32m    890\u001b[0m     \u001b[39m'\u001b[39;49m\u001b[39musing\u001b[39;49m\u001b[39m'\u001b[39;49m: by,\n\u001b[1;32m    891\u001b[0m     \u001b[39m'\u001b[39;49m\u001b[39mvalue\u001b[39;49m\u001b[39m'\u001b[39;49m: value})[\u001b[39m'\u001b[39m\u001b[39mvalue\u001b[39m\u001b[39m'\u001b[39m] \u001b[39mor\u001b[39;00m []\n",
      "File \u001b[0;32m~/Documents/GitHub/crypto_scraping_project/venv/lib/python3.8/site-packages/selenium/webdriver/remote/webdriver.py:429\u001b[0m, in \u001b[0;36mWebDriver.execute\u001b[0;34m(self, driver_command, params)\u001b[0m\n\u001b[1;32m    427\u001b[0m response \u001b[39m=\u001b[39m \u001b[39mself\u001b[39m\u001b[39m.\u001b[39mcommand_executor\u001b[39m.\u001b[39mexecute(driver_command, params)\n\u001b[1;32m    428\u001b[0m \u001b[39mif\u001b[39;00m response:\n\u001b[0;32m--> 429\u001b[0m     \u001b[39mself\u001b[39;49m\u001b[39m.\u001b[39;49merror_handler\u001b[39m.\u001b[39;49mcheck_response(response)\n\u001b[1;32m    430\u001b[0m     response[\u001b[39m'\u001b[39m\u001b[39mvalue\u001b[39m\u001b[39m'\u001b[39m] \u001b[39m=\u001b[39m \u001b[39mself\u001b[39m\u001b[39m.\u001b[39m_unwrap_value(\n\u001b[1;32m    431\u001b[0m         response\u001b[39m.\u001b[39mget(\u001b[39m'\u001b[39m\u001b[39mvalue\u001b[39m\u001b[39m'\u001b[39m, \u001b[39mNone\u001b[39;00m))\n\u001b[1;32m    432\u001b[0m     \u001b[39mreturn\u001b[39;00m response\n",
      "File \u001b[0;32m~/Documents/GitHub/crypto_scraping_project/venv/lib/python3.8/site-packages/selenium/webdriver/remote/errorhandler.py:243\u001b[0m, in \u001b[0;36mErrorHandler.check_response\u001b[0;34m(self, response)\u001b[0m\n\u001b[1;32m    241\u001b[0m         alert_text \u001b[39m=\u001b[39m value[\u001b[39m'\u001b[39m\u001b[39malert\u001b[39m\u001b[39m'\u001b[39m]\u001b[39m.\u001b[39mget(\u001b[39m'\u001b[39m\u001b[39mtext\u001b[39m\u001b[39m'\u001b[39m)\n\u001b[1;32m    242\u001b[0m     \u001b[39mraise\u001b[39;00m exception_class(message, screen, stacktrace, alert_text)  \u001b[39m# type: ignore[call-arg]  # mypy is not smart enough here\u001b[39;00m\n\u001b[0;32m--> 243\u001b[0m \u001b[39mraise\u001b[39;00m exception_class(message, screen, stacktrace)\n",
      "\u001b[0;31mInvalidArgumentException\u001b[0m: Message: invalid argument: invalid locator\n  (Session info: chrome=105.0.5195.125)\nStacktrace:\n0   chromedriver                        0x000000010865c788 chromedriver + 4515720\n1   chromedriver                        0x00000001085e09d3 chromedriver + 4008403\n2   chromedriver                        0x000000010827312a chromedriver + 413994\n3   chromedriver                        0x00000001082aa17c chromedriver + 639356\n4   chromedriver                        0x00000001082aaa61 chromedriver + 641633\n5   chromedriver                        0x00000001082dcfa1 chromedriver + 847777\n6   chromedriver                        0x00000001082c77fd chromedriver + 759805\n7   chromedriver                        0x00000001082dabd9 chromedriver + 838617\n8   chromedriver                        0x00000001082c7603 chromedriver + 759299\n9   chromedriver                        0x000000010829d990 chromedriver + 588176\n10  chromedriver                        0x000000010829ea75 chromedriver + 592501\n11  chromedriver                        0x000000010862c6cd chromedriver + 4318925\n12  chromedriver                        0x0000000108630f35 chromedriver + 4337461\n13  chromedriver                        0x00000001086381ff chromedriver + 4366847\n14  chromedriver                        0x0000000108631c5a chromedriver + 4340826\n15  chromedriver                        0x0000000108607c2c chromedriver + 4168748\n16  chromedriver                        0x000000010864e4f8 chromedriver + 4457720\n17  chromedriver                        0x000000010864e693 chromedriver + 4458131\n18  chromedriver                        0x0000000108663a3e chromedriver + 4545086\n19  libsystem_pthread.dylib             0x00007ff81a22e4e1 _pthread_start + 125\n20  libsystem_pthread.dylib             0x00007ff81a229f6b thread_start + 15\n"
     ]
    }
   ],
   "source": [
    "url = 'https://finance.yahoo.com/cryptocurrencies/'\n",
    "\n",
    "# installing driver making sure that new driver is\n",
    "driver = webdriver.Chrome(service=Service(ChromeDriverManager().install()))\n",
    "driver.get(url)\n",
    "\n",
    "search = driver.find_elements(By.Head,\"table\")\n",
    "\n",
    "driver.quit()"
   ]
  },
  {
   "cell_type": "code",
   "execution_count": null,
   "metadata": {},
   "outputs": [],
   "source": []
  }
 ],
 "metadata": {
  "kernelspec": {
   "display_name": "Python 3.8.13 ('venv': venv)",
   "language": "python",
   "name": "python3"
  },
  "language_info": {
   "codemirror_mode": {
    "name": "ipython",
    "version": 3
   },
   "file_extension": ".py",
   "mimetype": "text/x-python",
   "name": "python",
   "nbconvert_exporter": "python",
   "pygments_lexer": "ipython3",
   "version": "3.8.13"
  },
  "orig_nbformat": 4,
  "vscode": {
   "interpreter": {
    "hash": "a3d0a0195eec492dce79e257cf7676dfb062318eea67dd624c48d2f80eb57d6d"
   }
  }
 },
 "nbformat": 4,
 "nbformat_minor": 2
}
