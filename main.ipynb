{
 "cells": [
  {
   "cell_type": "code",
   "execution_count": 24,
   "metadata": {},
   "outputs": [],
   "source": [
    "from coindesk_scraper import CoinDeskScraper\n",
    "from yahoo_scraper import YahooScraper\n",
    "from coinmarket_scraper import CoinMarketCapScraper\n",
    "import h5py\n",
    "import numpy as np"
   ]
  },
  {
   "cell_type": "code",
   "execution_count": 25,
   "metadata": {},
   "outputs": [],
   "source": [
    "yahoo = YahooScraper()\n",
    "yahoo_data = yahoo.scrape_yahoo()\n",
    "\n",
    "coindesk = CoinDeskScraper()\n",
    "coindesk_data = coindesk.scrape_coindesk()\n",
    "\n",
    "cmc = CoinMarketCapScraper()\n",
    "cmc_data = cmc.scrape_coinmarketcap()"
   ]
  },
  {
   "cell_type": "code",
   "execution_count": 29,
   "metadata": {},
   "outputs": [
    {
     "ename": "TypeError",
     "evalue": "No conversion path for dtype: dtype('<U21')",
     "output_type": "error",
     "traceback": [
      "\u001b[0;31m---------------------------------------------------------------------------\u001b[0m",
      "\u001b[0;31mKeyError\u001b[0m                                  Traceback (most recent call last)",
      "Cell \u001b[0;32mIn [29], line 14\u001b[0m\n\u001b[1;32m     13\u001b[0m coindesk_mask \u001b[39m=\u001b[39m np\u001b[39m.\u001b[39marray(coindesk\u001b[39m.\u001b[39mnews_list)\n\u001b[0;32m---> 14\u001b[0m hdf[\u001b[39m'\u001b[39m\u001b[39mnews_dev_data\u001b[39m\u001b[39m'\u001b[39m][\u001b[39m'\u001b[39m\u001b[39mnews_entries\u001b[39m\u001b[39m'\u001b[39m]\u001b[39m.\u001b[39mresize(\n\u001b[1;32m     15\u001b[0m     (hdf[\u001b[39m'\u001b[39m\u001b[39mnews_dev_data\u001b[39m\u001b[39m'\u001b[39m][\u001b[39m'\u001b[39m\u001b[39mnews_entries\u001b[39m\u001b[39m'\u001b[39m]\u001b[39m.\u001b[39mshape[\u001b[39m0\u001b[39m] \u001b[39m+\u001b[39m coindesk_mask\u001b[39m.\u001b[39mshape[\u001b[39m0\u001b[39m]), axis\u001b[39m=\u001b[39m\u001b[39m0\u001b[39m\n\u001b[1;32m     16\u001b[0m )\n\u001b[1;32m     17\u001b[0m \u001b[39m# fill newly created rows/columns with new data\u001b[39;00m\n",
      "File \u001b[0;32mh5py/_objects.pyx:54\u001b[0m, in \u001b[0;36mh5py._objects.with_phil.wrapper\u001b[0;34m()\u001b[0m\n",
      "File \u001b[0;32mh5py/_objects.pyx:55\u001b[0m, in \u001b[0;36mh5py._objects.with_phil.wrapper\u001b[0;34m()\u001b[0m\n",
      "File \u001b[0;32m~/Documents/GitHub/crypto_scraping_project/venv/lib/python3.8/site-packages/h5py/_hl/group.py:328\u001b[0m, in \u001b[0;36mGroup.__getitem__\u001b[0;34m(self, name)\u001b[0m\n\u001b[1;32m    327\u001b[0m \u001b[39melif\u001b[39;00m \u001b[39misinstance\u001b[39m(name, (\u001b[39mbytes\u001b[39m, \u001b[39mstr\u001b[39m)):\n\u001b[0;32m--> 328\u001b[0m     oid \u001b[39m=\u001b[39m h5o\u001b[39m.\u001b[39;49mopen(\u001b[39mself\u001b[39;49m\u001b[39m.\u001b[39;49mid, \u001b[39mself\u001b[39;49m\u001b[39m.\u001b[39;49m_e(name), lapl\u001b[39m=\u001b[39;49m\u001b[39mself\u001b[39;49m\u001b[39m.\u001b[39;49m_lapl)\n\u001b[1;32m    329\u001b[0m \u001b[39melse\u001b[39;00m:\n",
      "File \u001b[0;32mh5py/_objects.pyx:54\u001b[0m, in \u001b[0;36mh5py._objects.with_phil.wrapper\u001b[0;34m()\u001b[0m\n",
      "File \u001b[0;32mh5py/_objects.pyx:55\u001b[0m, in \u001b[0;36mh5py._objects.with_phil.wrapper\u001b[0;34m()\u001b[0m\n",
      "File \u001b[0;32mh5py/h5o.pyx:190\u001b[0m, in \u001b[0;36mh5py.h5o.open\u001b[0;34m()\u001b[0m\n",
      "\u001b[0;31mKeyError\u001b[0m: \"Unable to open object (object 'news_entries' doesn't exist)\"",
      "\nDuring handling of the above exception, another exception occurred:\n",
      "\u001b[0;31mTypeError\u001b[0m                                 Traceback (most recent call last)",
      "Cell \u001b[0;32mIn [29], line 44\u001b[0m\n\u001b[1;32m     41\u001b[0m yahoo_prices\u001b[39m.\u001b[39mattrs[\u001b[39m\"\u001b[39m\u001b[39mUSER\u001b[39m\u001b[39m\"\u001b[39m] \u001b[39m=\u001b[39m \u001b[39m\"\u001b[39m\u001b[39mEmre Erturk\u001b[39m\u001b[39m\"\u001b[39m  \u001b[39m# Add metadata\u001b[39;00m\n\u001b[1;32m     43\u001b[0m news_dev_group_mask \u001b[39m=\u001b[39m hdf\u001b[39m.\u001b[39mcreate_group(\u001b[39m'\u001b[39m\u001b[39mnews_dev_data\u001b[39m\u001b[39m'\u001b[39m)\n\u001b[0;32m---> 44\u001b[0m coindesk_mask \u001b[39m=\u001b[39m news_dev_group_mask\u001b[39m.\u001b[39mcreate_dataset(\n\u001b[1;32m     45\u001b[0m     \u001b[39m'\u001b[39m\u001b[39mnews_entries\u001b[39m\u001b[39m'\u001b[39m,\n\u001b[1;32m     46\u001b[0m     data \u001b[39m=\u001b[39m coindesk\u001b[39m.\u001b[39mnews_list,\n\u001b[1;32m     47\u001b[0m     maxshape\u001b[39m=\u001b[39m(\n\u001b[1;32m     48\u001b[0m         \u001b[39mNone\u001b[39;00m,\n\u001b[1;32m     49\u001b[0m         \u001b[39mNone\u001b[39;00m,\n\u001b[1;32m     50\u001b[0m     ),\n\u001b[1;32m     51\u001b[0m     chunks\u001b[39m=\u001b[39m \u001b[39mTrue\u001b[39;00m,\n\u001b[1;32m     52\u001b[0m )\n\u001b[1;32m     53\u001b[0m coindesk_mask\u001b[39m.\u001b[39mattrs[\u001b[39m'\u001b[39m\u001b[39mUSER\u001b[39m\u001b[39m'\u001b[39m] \u001b[39m=\u001b[39m \u001b[39m'\u001b[39m\u001b[39mEmre Ertürk\u001b[39m\u001b[39m'\u001b[39m\n\u001b[1;32m     55\u001b[0m cmc_mask \u001b[39m=\u001b[39m news_dev_group_mask\u001b[39m.\u001b[39mcreate_dataset(\n\u001b[1;32m     56\u001b[0m     \u001b[39m'\u001b[39m\u001b[39mdev_entries\u001b[39m\u001b[39m'\u001b[39m,\n\u001b[1;32m     57\u001b[0m     data \u001b[39m=\u001b[39m cmc\u001b[39m.\u001b[39mcrypto_project_info,\n\u001b[0;32m   (...)\u001b[0m\n\u001b[1;32m     62\u001b[0m     chunks\u001b[39m=\u001b[39m \u001b[39mTrue\u001b[39;00m,\n\u001b[1;32m     63\u001b[0m )\n",
      "File \u001b[0;32m~/Documents/GitHub/crypto_scraping_project/venv/lib/python3.8/site-packages/h5py/_hl/group.py:161\u001b[0m, in \u001b[0;36mGroup.create_dataset\u001b[0;34m(self, name, shape, dtype, data, **kwds)\u001b[0m\n\u001b[1;32m    158\u001b[0m         parent_path, name \u001b[39m=\u001b[39m name\u001b[39m.\u001b[39mrsplit(\u001b[39mb\u001b[39m\u001b[39m'\u001b[39m\u001b[39m/\u001b[39m\u001b[39m'\u001b[39m, \u001b[39m1\u001b[39m)\n\u001b[1;32m    159\u001b[0m         group \u001b[39m=\u001b[39m \u001b[39mself\u001b[39m\u001b[39m.\u001b[39mrequire_group(parent_path)\n\u001b[0;32m--> 161\u001b[0m dsid \u001b[39m=\u001b[39m dataset\u001b[39m.\u001b[39;49mmake_new_dset(group, shape, dtype, data, name, \u001b[39m*\u001b[39;49m\u001b[39m*\u001b[39;49mkwds)\n\u001b[1;32m    162\u001b[0m dset \u001b[39m=\u001b[39m dataset\u001b[39m.\u001b[39mDataset(dsid)\n\u001b[1;32m    163\u001b[0m \u001b[39mreturn\u001b[39;00m dset\n",
      "File \u001b[0;32m~/Documents/GitHub/crypto_scraping_project/venv/lib/python3.8/site-packages/h5py/_hl/dataset.py:88\u001b[0m, in \u001b[0;36mmake_new_dset\u001b[0;34m(parent, shape, dtype, data, name, chunks, compression, shuffle, fletcher32, maxshape, compression_opts, fillvalue, scaleoffset, track_times, external, track_order, dcpl, dapl, efile_prefix, virtual_prefix, allow_unknown_filter)\u001b[0m\n\u001b[1;32m     86\u001b[0m     \u001b[39melse\u001b[39;00m:\n\u001b[1;32m     87\u001b[0m         dtype \u001b[39m=\u001b[39m numpy\u001b[39m.\u001b[39mdtype(dtype)\n\u001b[0;32m---> 88\u001b[0m     tid \u001b[39m=\u001b[39m h5t\u001b[39m.\u001b[39;49mpy_create(dtype, logical\u001b[39m=\u001b[39;49m\u001b[39m1\u001b[39;49m)\n\u001b[1;32m     90\u001b[0m \u001b[39m# Legacy\u001b[39;00m\n\u001b[1;32m     91\u001b[0m \u001b[39mif\u001b[39;00m \u001b[39many\u001b[39m((compression, shuffle, fletcher32, maxshape, scaleoffset)) \u001b[39mand\u001b[39;00m chunks \u001b[39mis\u001b[39;00m \u001b[39mFalse\u001b[39;00m:\n",
      "File \u001b[0;32mh5py/h5t.pyx:1663\u001b[0m, in \u001b[0;36mh5py.h5t.py_create\u001b[0;34m()\u001b[0m\n",
      "File \u001b[0;32mh5py/h5t.pyx:1687\u001b[0m, in \u001b[0;36mh5py.h5t.py_create\u001b[0;34m()\u001b[0m\n",
      "File \u001b[0;32mh5py/h5t.pyx:1753\u001b[0m, in \u001b[0;36mh5py.h5t.py_create\u001b[0;34m()\u001b[0m\n",
      "\u001b[0;31mTypeError\u001b[0m: No conversion path for dtype: dtype('<U21')"
     ]
    }
   ],
   "source": [
    "\n",
    "try:\n",
    "    with h5py.File(\n",
    "        \"/Users/emre/Documents/GitHub/crypto_scraping_project/ZZZ.h5\", \"a\"\n",
    "    ) as hdf:\n",
    "        yahoo_mask = np.array(yahoo.cryptocurrencies_list)  # Convert list of tuples to Numpy array\n",
    "        # resize target dataset and add shape of new data to it\n",
    "        hdf[\"yahoo_prices\"].resize(\n",
    "            (hdf[\"yahoo_prices\"].shape[0] + yahoo_mask.shape[0]), axis=0\n",
    "        )\n",
    "        # fill newly created rows/columns with new data\n",
    "        hdf[\"yahoo_prices\"][yahoo_mask.shape[0] :] = yahoo_mask\n",
    "\n",
    "        coindesk_mask = np.array(coindesk.news_list)\n",
    "        hdf['news_dev_data']['news_entries'].resize(\n",
    "            (hdf['news_dev_data']['news_entries'].shape[0] + coindesk_mask.shape[0]), axis=0\n",
    "        )\n",
    "        # fill newly created rows/columns with new data\n",
    "        hdf['news_dev_data']['news_entries'][coindesk_mask.shape[0] :] = coindesk_mask\n",
    "\n",
    "        cmc_mask = np.array(coindesk.news_list)\n",
    "        hdf['news_dev_data']['dev_entries'].resize(\n",
    "            (hdf['news_dev_data']['dev_entries'].shape[0] + cmc_mask.shape[0]), axis=0\n",
    "        )\n",
    "        # fill newly created rows/columns with new data\n",
    "        hdf['news_dev_data']['dev_entries'][cmc_mask.shape[0] :] = cmc_mask\n",
    "\n",
    "except:\n",
    "    with h5py.File(\n",
    "        \"/Users/emre/Documents/GitHub/crypto_scraping_project/ZZZ.h5\", \"w\"\n",
    "    ) as hdf:\n",
    "        # yahoo_group = hdf.create_group(\"crypto_prices\")  # Name of Group\n",
    "        yahoo_prices = hdf.create_dataset(\n",
    "            \"yahoo_prices\",  # name of dataset\n",
    "            data=yahoo.cryptocurrencies_list,  # name of data\n",
    "            maxshape=(\n",
    "                None,\n",
    "                None,\n",
    "            ),  # shape of dataset set up for resizing and appending later\n",
    "            chunks=True,  # Set up access pattern\n",
    "        )\n",
    "        yahoo_prices.attrs[\"USER\"] = \"Emre Erturk\"  # Add metadata\n",
    "\n",
    "        news_dev_group_mask = hdf.create_group('news_dev_data')\n",
    "        coindesk_mask = news_dev_group_mask.create_dataset(\n",
    "            'news_entries',\n",
    "            data = coindesk.news_list,\n",
    "            maxshape=(\n",
    "                None,\n",
    "                None,\n",
    "            ),\n",
    "            chunks= True,\n",
    "        )\n",
    "        coindesk_mask.attrs['USER'] = 'Emre Ertürk'\n",
    "\n",
    "        cmc_mask = news_dev_group_mask.create_dataset(\n",
    "            'dev_entries',\n",
    "            data = cmc.crypto_project_info,\n",
    "            maxshape=(\n",
    "                None,\n",
    "                None,\n",
    "            ),\n",
    "            chunks= True,\n",
    "        )\n",
    "        cmc_mask.attrs['USER'] = 'Emre Ertürk'"
   ]
  },
  {
   "cell_type": "code",
   "execution_count": 34,
   "metadata": {},
   "outputs": [
    {
     "ename": "TypeError",
     "evalue": "No conversion path for dtype: dtype('<U21')",
     "output_type": "error",
     "traceback": [
      "\u001b[0;31m---------------------------------------------------------------------------\u001b[0m",
      "\u001b[0;31mTypeError\u001b[0m                                 Traceback (most recent call last)",
      "Cell \u001b[0;32mIn [34], line 17\u001b[0m\n\u001b[1;32m      1\u001b[0m \u001b[39mwith\u001b[39;00m h5py\u001b[39m.\u001b[39mFile(\n\u001b[1;32m      2\u001b[0m         \u001b[39m\"\u001b[39m\u001b[39m/Users/emre/Documents/GitHub/crypto_scraping_project/ZZZ.h5\u001b[39m\u001b[39m\"\u001b[39m, \u001b[39m\"\u001b[39m\u001b[39mw\u001b[39m\u001b[39m\"\u001b[39m\n\u001b[1;32m      3\u001b[0m ) \u001b[39mas\u001b[39;00m hdf:\n\u001b[0;32m   (...)\u001b[0m\n\u001b[1;32m     13\u001b[0m     \u001b[39m# )\u001b[39;00m\n\u001b[1;32m     14\u001b[0m     \u001b[39m# yahoo_prices.attrs[\"USER\"] = \"Emre Erturk\"  # Add metadata\u001b[39;00m\n\u001b[1;32m     16\u001b[0m     news_dev_group_mask \u001b[39m=\u001b[39m hdf\u001b[39m.\u001b[39mcreate_group(\u001b[39m'\u001b[39m\u001b[39mnews_dev_data\u001b[39m\u001b[39m'\u001b[39m)\n\u001b[0;32m---> 17\u001b[0m     coindesk_mask \u001b[39m=\u001b[39m news_dev_group_mask\u001b[39m.\u001b[39mcreate_dataset(\n\u001b[1;32m     18\u001b[0m         \u001b[39m'\u001b[39m\u001b[39mnews_entries\u001b[39m\u001b[39m'\u001b[39m,\n\u001b[1;32m     19\u001b[0m         data \u001b[39m=\u001b[39m np\u001b[39m.\u001b[39marray(coindesk\u001b[39m.\u001b[39mnews_list),\n\u001b[1;32m     20\u001b[0m         maxshape\u001b[39m=\u001b[39m(\n\u001b[1;32m     21\u001b[0m             \u001b[39mNone\u001b[39;00m,\n\u001b[1;32m     22\u001b[0m             \u001b[39mNone\u001b[39;00m,\n\u001b[1;32m     23\u001b[0m         ),\n\u001b[1;32m     24\u001b[0m         chunks\u001b[39m=\u001b[39m \u001b[39mTrue\u001b[39;00m,\n\u001b[1;32m     25\u001b[0m     )\n\u001b[1;32m     26\u001b[0m     coindesk_mask\u001b[39m.\u001b[39mattrs[\u001b[39m'\u001b[39m\u001b[39mUSER\u001b[39m\u001b[39m'\u001b[39m] \u001b[39m=\u001b[39m \u001b[39m'\u001b[39m\u001b[39mEmre Ertürk\u001b[39m\u001b[39m'\u001b[39m\n",
      "File \u001b[0;32m~/Documents/GitHub/crypto_scraping_project/venv/lib/python3.8/site-packages/h5py/_hl/group.py:161\u001b[0m, in \u001b[0;36mGroup.create_dataset\u001b[0;34m(self, name, shape, dtype, data, **kwds)\u001b[0m\n\u001b[1;32m    158\u001b[0m         parent_path, name \u001b[39m=\u001b[39m name\u001b[39m.\u001b[39mrsplit(\u001b[39mb\u001b[39m\u001b[39m'\u001b[39m\u001b[39m/\u001b[39m\u001b[39m'\u001b[39m, \u001b[39m1\u001b[39m)\n\u001b[1;32m    159\u001b[0m         group \u001b[39m=\u001b[39m \u001b[39mself\u001b[39m\u001b[39m.\u001b[39mrequire_group(parent_path)\n\u001b[0;32m--> 161\u001b[0m dsid \u001b[39m=\u001b[39m dataset\u001b[39m.\u001b[39;49mmake_new_dset(group, shape, dtype, data, name, \u001b[39m*\u001b[39;49m\u001b[39m*\u001b[39;49mkwds)\n\u001b[1;32m    162\u001b[0m dset \u001b[39m=\u001b[39m dataset\u001b[39m.\u001b[39mDataset(dsid)\n\u001b[1;32m    163\u001b[0m \u001b[39mreturn\u001b[39;00m dset\n",
      "File \u001b[0;32m~/Documents/GitHub/crypto_scraping_project/venv/lib/python3.8/site-packages/h5py/_hl/dataset.py:88\u001b[0m, in \u001b[0;36mmake_new_dset\u001b[0;34m(parent, shape, dtype, data, name, chunks, compression, shuffle, fletcher32, maxshape, compression_opts, fillvalue, scaleoffset, track_times, external, track_order, dcpl, dapl, efile_prefix, virtual_prefix, allow_unknown_filter)\u001b[0m\n\u001b[1;32m     86\u001b[0m     \u001b[39melse\u001b[39;00m:\n\u001b[1;32m     87\u001b[0m         dtype \u001b[39m=\u001b[39m numpy\u001b[39m.\u001b[39mdtype(dtype)\n\u001b[0;32m---> 88\u001b[0m     tid \u001b[39m=\u001b[39m h5t\u001b[39m.\u001b[39;49mpy_create(dtype, logical\u001b[39m=\u001b[39;49m\u001b[39m1\u001b[39;49m)\n\u001b[1;32m     90\u001b[0m \u001b[39m# Legacy\u001b[39;00m\n\u001b[1;32m     91\u001b[0m \u001b[39mif\u001b[39;00m \u001b[39many\u001b[39m((compression, shuffle, fletcher32, maxshape, scaleoffset)) \u001b[39mand\u001b[39;00m chunks \u001b[39mis\u001b[39;00m \u001b[39mFalse\u001b[39;00m:\n",
      "File \u001b[0;32mh5py/h5t.pyx:1663\u001b[0m, in \u001b[0;36mh5py.h5t.py_create\u001b[0;34m()\u001b[0m\n",
      "File \u001b[0;32mh5py/h5t.pyx:1687\u001b[0m, in \u001b[0;36mh5py.h5t.py_create\u001b[0;34m()\u001b[0m\n",
      "File \u001b[0;32mh5py/h5t.pyx:1753\u001b[0m, in \u001b[0;36mh5py.h5t.py_create\u001b[0;34m()\u001b[0m\n",
      "\u001b[0;31mTypeError\u001b[0m: No conversion path for dtype: dtype('<U21')"
     ]
    }
   ],
   "source": [
    "with h5py.File(\"/Users/emre/Documents/GitHub/crypto_scraping_project/ZZZ.h5\", \"w\") as hdf:\n",
    "    # # yahoo_group = hdf.create_group(\"crypto_prices\")  # Name of Group\n",
    "    # yahoo_prices = hdf.create_dataset(\n",
    "    #     \"yahoo_prices\",  # name of dataset\n",
    "    #     data=yahoo.cryptocurrencies_list,  # name of data\n",
    "    #     maxshape=(\n",
    "    #         None,\n",
    "    #         None,\n",
    "    #     ),  # shape of dataset set up for resizing and appending later\n",
    "    #     chunks=True,  # Set up access pattern\n",
    "    # )\n",
    "    # yahoo_prices.attrs[\"USER\"] = \"Emre Erturk\"  # Add metadata\n",
    "\n",
    "    news_dev_group_mask = hdf.create_group('news_dev_data')\n",
    "    coindesk_mask = news_dev_group_mask.create_dataset(\n",
    "        'news_entries',\n",
    "        data = coindesk.news_list,\n",
    "        maxshape=(\n",
    "            None,\n",
    "            None,\n",
    "        ),\n",
    "        chunks= True,\n",
    "    )\n",
    "    coindesk_mask.attrs['USER'] = 'Emre Ertürk'\n",
    "\n",
    "    # cmc_mask = news_dev_group_mask.create_dataset(\n",
    "    #     'dev_entries',\n",
    "    #     data = cmc.crypto_project_info,\n",
    "    #     maxshape=(\n",
    "    #         None,\n",
    "    #         None,\n",
    "    #     ),\n",
    "    #     chunks= True,\n",
    "    # )\n",
    "    # cmc_mask.attrs['USER'] = 'Emre Ertürk'"
   ]
  },
  {
   "cell_type": "code",
   "execution_count": null,
   "metadata": {},
   "outputs": [],
   "source": []
  }
 ],
 "metadata": {
  "kernelspec": {
   "display_name": "Python 3.8.13 ('venv': venv)",
   "language": "python",
   "name": "python3"
  },
  "language_info": {
   "codemirror_mode": {
    "name": "ipython",
    "version": 3
   },
   "file_extension": ".py",
   "mimetype": "text/x-python",
   "name": "python",
   "nbconvert_exporter": "python",
   "pygments_lexer": "ipython3",
   "version": "3.8.13"
  },
  "orig_nbformat": 4,
  "vscode": {
   "interpreter": {
    "hash": "a3d0a0195eec492dce79e257cf7676dfb062318eea67dd624c48d2f80eb57d6d"
   }
  }
 },
 "nbformat": 4,
 "nbformat_minor": 2
}
